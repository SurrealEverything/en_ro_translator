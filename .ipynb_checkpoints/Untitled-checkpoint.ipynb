{
 "cells": [
  {
   "cell_type": "code",
   "execution_count": 2,
   "id": "2670f2d7",
   "metadata": {},
   "outputs": [
    {
     "name": "stdout",
     "output_type": "stream",
     "text": [
      "WARNING:tensorflow:From <ipython-input-2-b94fdc69394d>:3: is_gpu_available (from tensorflow.python.framework.test_util) is deprecated and will be removed in a future version.\n",
      "Instructions for updating:\n",
      "Use `tf.config.list_physical_devices('GPU')` instead.\n"
     ]
    },
    {
     "data": {
      "text/plain": [
       "True"
      ]
     },
     "execution_count": 2,
     "metadata": {},
     "output_type": "execute_result"
    }
   ],
   "source": [
    "import tensorflow as tf\n",
    "\n",
    "tf.test.is_gpu_available(\n",
    "    cuda_only=False, min_cuda_compute_capability=None\n",
    ")"
   ]
  },
  {
   "cell_type": "code",
   "execution_count": null,
   "id": "7c92676d",
   "metadata": {},
   "outputs": [],
   "source": [
    "# import opennmt\n",
    "\n",
    "# class MyCustomTransformer(opennmt.models.Transformer):\n",
    "#     def __init__(self):\n",
    "#         super().__init__(\n",
    "#             source_inputter=opennmt.inputters.WordEmbedder(embedding_size=512),\n",
    "#             target_inputter=opennmt.inputters.WordEmbedder(embedding_size=512),\n",
    "#             num_layers=6,\n",
    "#             num_units=512,\n",
    "#             num_heads=8,\n",
    "#             ffn_inner_dim=2048,\n",
    "#             dropout=0.1,\n",
    "#             attention_dropout=0.1,\n",
    "#             ffn_dropout=0.1,\n",
    "#             share_embeddings=opennmt.models.EmbeddingsSharingLevel.ALL,\n",
    "#         )\n",
    "\n",
    "#     # Here you can override any method from the Model class for a customized behavior.\n",
    "\n",
    "# model = MyCustomTransformer"
   ]
  },
  {
   "cell_type": "code",
   "execution_count": null,
   "id": "e5edf772",
   "metadata": {},
   "outputs": [],
   "source": []
  }
 ],
 "metadata": {
  "kernelspec": {
   "display_name": "Python 3",
   "language": "python",
   "name": "python3"
  },
  "language_info": {
   "codemirror_mode": {
    "name": "ipython",
    "version": 3
   },
   "file_extension": ".py",
   "mimetype": "text/x-python",
   "name": "python",
   "nbconvert_exporter": "python",
   "pygments_lexer": "ipython3",
   "version": "3.9.7"
  }
 },
 "nbformat": 4,
 "nbformat_minor": 5
}
