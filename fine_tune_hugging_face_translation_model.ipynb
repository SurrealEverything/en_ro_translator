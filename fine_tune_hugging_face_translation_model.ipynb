{
 "cells": [
  {
   "cell_type": "code",
   "execution_count": null,
   "metadata": {
    "id": "tmYJBBbwyiX3"
   },
   "outputs": [],
   "source": [
    "import os\n",
    "os.environ[\"WANDB_DISABLED\"]=\"true\""
   ]
  },
  {
   "cell_type": "code",
   "execution_count": 1,
   "metadata": {
    "colab": {
     "base_uri": "https://localhost:8080/"
    },
    "execution": {
     "iopub.execute_input": "2021-09-29T08:56:53.224201Z",
     "iopub.status.busy": "2021-09-29T08:56:53.223644Z",
     "iopub.status.idle": "2021-09-29T08:57:00.101672Z",
     "shell.execute_reply": "2021-09-29T08:57:00.100739Z",
     "shell.execute_reply.started": "2021-09-29T08:56:53.224163Z"
    },
    "id": "SqADZ2Sgx5Ua",
    "outputId": "60c95827-a686-45eb-c201-e23bc8b03b2b"
   },
   "outputs": [],
   "source": [
    "# ! pip install datasets transformers sacrebleu torch sentencepiece transformers[sentencepiece]"
   ]
  },
  {
   "cell_type": "markdown",
   "metadata": {
    "id": "qN5RtJdM8xi5"
   },
   "source": [
    "Make sure your version of Transformers is at least 4.11.0 since the functionality was introduced in that version"
   ]
  },
  {
   "cell_type": "code",
   "execution_count": 2,
   "metadata": {
    "colab": {
     "base_uri": "https://localhost:8080/"
    },
    "execution": {
     "iopub.execute_input": "2021-09-29T08:57:00.104596Z",
     "iopub.status.busy": "2021-09-29T08:57:00.104182Z",
     "iopub.status.idle": "2021-09-29T08:57:00.284764Z",
     "shell.execute_reply": "2021-09-29T08:57:00.283961Z",
     "shell.execute_reply.started": "2021-09-29T08:57:00.104552Z"
    },
    "id": "5xKFwtNEx5Uc",
    "outputId": "1206f370-b7a8-4a34-bc6d-36f1a731be6a"
   },
   "outputs": [
    {
     "name": "stdout",
     "output_type": "stream",
     "text": [
      "4.15.0\n"
     ]
    }
   ],
   "source": [
    "import transformers\n",
    "print(transformers.__version__)"
   ]
  },
  {
   "cell_type": "markdown",
   "metadata": {
    "id": "Fu45aGHIAQqM"
   },
   "source": [
    "### Loading the dataset"
   ]
  },
  {
   "cell_type": "code",
   "execution_count": 4,
   "metadata": {
    "colab": {
     "base_uri": "https://localhost:8080/",
     "height": 424,
     "referenced_widgets": [
      "34fd15427c7d4f4189c9ce38924107b5",
      "04672fbdc8754babbb7bb3bfb7bcfd2e",
      "53ec358cc4784c25a50e17bd8764fd56",
      "c916612f156b457f828410fdc85c8def",
      "de1e4b0f94f74b4380de2cb4447352f1",
      "c04bdf05ef684c8fb12ea45833394e77",
      "ed5983a37cba4faea852cf2e13b355b4",
      "f8f12dcd6d164513bae3d4d7835cc45e",
      "adbad0b85f78492583b2c5b291341030",
      "a9aa1538562840f2b969340f1cbf8bbb",
      "5600aa1b802c46b183417910f0e18cc4",
      "fd705f2d192c41f8bbbf5c6270e6ffb0",
      "d8499a1a46144034b56489025aaee86f",
      "b982f93475414c0c8a92601717138dc4",
      "98b513fb020744bfbbe0678daa33f2aa",
      "4295f3dc0a494198b776f682b327924d",
      "17ecb55f59dd411084d8692b80cc8cad",
      "a434f279213545da8a92da73bc320504",
      "e1d75f47a76d4bf8b2941fe543e46242",
      "0c2955e8cff44b5ba998ca584e485e54",
      "eb10554a79a04ecf92517ba96ca956d9",
      "ad65c758c1114adab13e6dbf29f660aa",
      "e3ada02e2bf34b5699475b1eb7801282",
      "9c9af690e08d490dbba5524e35fa6fcb",
      "c5d0a0ee946745609e561ffece8cde76",
      "9d13fcfc7b4e4ef182ef48df08253af4",
      "88c725d411d34463b632ec85fa67ed4a",
      "c4298a4942db4790a357a342c7cc13e7",
      "4d9080a460f34c8abdb3af1fdf0eddce",
      "a8744f13ff43450db14031275a7ba769",
      "edf107491f434e7486765ebda2ad938e",
      "922bfc020eb345c584ab31721a10922c",
      "f9c351511a33475d993fee0d6c1cddba",
      "4b5219e4a1a1400a982acc3065b46e2c"
     ]
    },
    "execution": {
     "iopub.execute_input": "2021-09-29T08:57:00.293349Z",
     "iopub.status.busy": "2021-09-29T08:57:00.292918Z",
     "iopub.status.idle": "2021-09-29T08:57:05.139984Z",
     "shell.execute_reply": "2021-09-29T08:57:05.139187Z",
     "shell.execute_reply.started": "2021-09-29T08:57:00.293314Z"
    },
    "id": "biPo8vFTx5Ue",
    "outputId": "402f80b1-801c-4452-f502-dfcb9d9e9326"
   },
   "outputs": [
    {
     "name": "stderr",
     "output_type": "stream",
     "text": [
      "Reusing dataset wmt16 (/home/gabriel/.cache/huggingface/datasets/wmt16/ro-en/1.0.0/af3c5d746b307726d0de73ebe7f10545361b9cb6f75c83a1734c000e48b6264f)\n"
     ]
    },
    {
     "data": {
      "application/vnd.jupyter.widget-view+json": {
       "model_id": "3fd5f59a66424492ba00252141a3acad",
       "version_major": 2,
       "version_minor": 0
      },
      "text/plain": [
       "  0%|          | 0/3 [00:00<?, ?it/s]"
      ]
     },
     "metadata": {},
     "output_type": "display_data"
    }
   ],
   "source": [
    "from datasets import load_dataset, load_metric\n",
    "raw_datasets = load_dataset(\"wmt16\", \"ro-en\")\n",
    "metric = load_metric(\"sacrebleu\")"
   ]
  },
  {
   "cell_type": "markdown",
   "metadata": {
    "id": "-LqXNw9_BFQe"
   },
   "source": [
    "The dataset object itself is [datasetdict](https://huggingface.co/docs/datasets/package_reference/main_classes.html#datasetdict), which contains one key for the training, validation and test set:"
   ]
  },
  {
   "cell_type": "code",
   "execution_count": 5,
   "metadata": {
    "colab": {
     "base_uri": "https://localhost:8080/"
    },
    "execution": {
     "iopub.execute_input": "2021-09-29T08:57:05.147453Z",
     "iopub.status.busy": "2021-09-29T08:57:05.146588Z",
     "iopub.status.idle": "2021-09-29T08:57:05.159295Z",
     "shell.execute_reply": "2021-09-29T08:57:05.158274Z",
     "shell.execute_reply.started": "2021-09-29T08:57:05.147411Z"
    },
    "id": "379sQa4Ix5Uf",
    "outputId": "8d3baded-0cec-4bbf-fdc4-cdcc7944ee9d"
   },
   "outputs": [
    {
     "data": {
      "text/plain": [
       "DatasetDict({\n",
       "    train: Dataset({\n",
       "        features: ['translation'],\n",
       "        num_rows: 610320\n",
       "    })\n",
       "    validation: Dataset({\n",
       "        features: ['translation'],\n",
       "        num_rows: 1999\n",
       "    })\n",
       "    test: Dataset({\n",
       "        features: ['translation'],\n",
       "        num_rows: 1999\n",
       "    })\n",
       "})"
      ]
     },
     "execution_count": 5,
     "metadata": {},
     "output_type": "execute_result"
    }
   ],
   "source": [
    "raw_datasets"
   ]
  },
  {
   "cell_type": "code",
   "execution_count": 6,
   "metadata": {
    "colab": {
     "base_uri": "https://localhost:8080/"
    },
    "execution": {
     "iopub.execute_input": "2021-09-29T08:57:05.160765Z",
     "iopub.status.busy": "2021-09-29T08:57:05.160565Z",
     "iopub.status.idle": "2021-09-29T08:57:05.173150Z",
     "shell.execute_reply": "2021-09-29T08:57:05.172261Z",
     "shell.execute_reply.started": "2021-09-29T08:57:05.160744Z"
    },
    "id": "Nkiu4ITXx5Ug",
    "outputId": "1eb6d334-c138-4ddb-c625-9a7f817fdb2a"
   },
   "outputs": [
    {
     "data": {
      "text/plain": [
       "{'translation': {'en': 'Membership of Parliament: see Minutes',\n",
       "  'ro': 'Componenţa Parlamentului: a se vedea procesul-verbal'}}"
      ]
     },
     "execution_count": 6,
     "metadata": {},
     "output_type": "execute_result"
    }
   ],
   "source": [
    "raw_datasets[\"train\"][0]"
   ]
  },
  {
   "cell_type": "code",
   "execution_count": 7,
   "metadata": {
    "colab": {
     "base_uri": "https://localhost:8080/",
     "height": 345
    },
    "execution": {
     "iopub.execute_input": "2021-09-29T08:57:05.175980Z",
     "iopub.status.busy": "2021-09-29T08:57:05.175034Z",
     "iopub.status.idle": "2021-09-29T08:57:05.225540Z",
     "shell.execute_reply": "2021-09-29T08:57:05.224872Z",
     "shell.execute_reply.started": "2021-09-29T08:57:05.175943Z"
    },
    "id": "1OE_CXoxx5Uh",
    "outputId": "c25cfc10-df85-49b7-bd06-524ce871ba9d"
   },
   "outputs": [
    {
     "data": {
      "text/html": [
       "<table border=\"1\" class=\"dataframe\">\n",
       "  <thead>\n",
       "    <tr style=\"text-align: right;\">\n",
       "      <th></th>\n",
       "      <th>translation</th>\n",
       "    </tr>\n",
       "  </thead>\n",
       "  <tbody>\n",
       "    <tr>\n",
       "      <th>0</th>\n",
       "      <td>{'en': 'For all these reasons, we voted against the report.', 'ro': 'Din aceste motive, noi am votat împotriva acestui raport.'}</td>\n",
       "    </tr>\n",
       "    <tr>\n",
       "      <th>1</th>\n",
       "      <td>{'en': 'What is scandalous, however, is the fact that the negotiations in the WTO are still dragging on, and that alone makes it clear that this form of trade facilitation is not suitable to be used as an emergency aid measure.', 'ro': 'Cu adevărat scandaloasă este însă tergiversarea negocierilor din cadrul OMC, care indică clar faptul că această formă de facilitare comercială nu este adecvată ca instrument de acordare a unui ajutor de urgență.'}</td>\n",
       "    </tr>\n",
       "    <tr>\n",
       "      <th>2</th>\n",
       "      <td>{'en': '\"Unfortunately, last Saturday we saw an example of how things should not go,\" the NATO chief said.', 'ro': '\"Din nefericire, sâmbăta trecută am asistat la un exemplu despre cum nu trebuie să meargă lucrurile\", a afirmat şeful NATO.'}</td>\n",
       "    </tr>\n",
       "    <tr>\n",
       "      <th>3</th>\n",
       "      <td>{'en': 'China is probably best placed to stand up for Chinese minorities, but it would first have to appreciate its own minorities: the Tibetans and the Uighurs.', 'ro': 'China este probabil în cea mai bună postură pentru a apăra minorităţile chineze, însă ar trebui mai întâi să-şi poată aprecia propriile minorităţi: tibetanii şi uigurii.'}</td>\n",
       "    </tr>\n",
       "    <tr>\n",
       "      <th>4</th>\n",
       "      <td>{'en': 'I am sure that this is going to work much better than what we had in the past.', 'ro': 'Sunt convinsă că toate acestea vor funcţiona mult mai bine decât au funcţionat în trecut.'}</td>\n",
       "    </tr>\n",
       "  </tbody>\n",
       "</table>"
      ],
      "text/plain": [
       "<IPython.core.display.HTML object>"
      ]
     },
     "metadata": {},
     "output_type": "display_data"
    }
   ],
   "source": [
    "import datasets\n",
    "import random\n",
    "import pandas as pd\n",
    "from IPython.display import display, HTML\n",
    "def show_random_elements(dataset, num_examples=5):\n",
    "    assert num_examples <= len(dataset), \"Can't pick more elements than there are in the dataset.\"\n",
    "    picks = []\n",
    "    for _ in range(num_examples):\n",
    "        pick = random.randint(0, len(dataset)-1)\n",
    "        while pick in picks:\n",
    "            pick = random.randint(0, len(dataset)-1)\n",
    "        picks.append(pick)\n",
    "    \n",
    "    df = pd.DataFrame(dataset[picks])\n",
    "    for column, typ in dataset.features.items():\n",
    "        if isinstance(typ, datasets.ClassLabel):\n",
    "            df[column] = df[column].transform(lambda i: typ.names[i])\n",
    "    display(HTML(df.to_html()))\n",
    "show_random_elements(raw_datasets[\"train\"])"
   ]
  },
  {
   "cell_type": "markdown",
   "metadata": {
    "id": "-6HmkA7uCWRa"
   },
   "source": [
    "# Preprocessing the data"
   ]
  },
  {
   "cell_type": "code",
   "execution_count": 9,
   "metadata": {
    "colab": {
     "base_uri": "https://localhost:8080/",
     "height": 177,
     "referenced_widgets": [
      "db4d60783a2b4cc9ac647f53524e9201",
      "23e6dd2b833d44aabc5b78a83d7ef136",
      "8aff67fa78c640bf83598dd7fccc5b97",
      "97ed312717014144af97d250fcd74d9d",
      "7b69f1226cf5457aa164146a890a2c5e",
      "d5ce787580584a40883fdac45df7917a",
      "1962a04347894250993d2eb3d2946e5c",
      "d5e1f379a1084c6e978a633698b4b02a",
      "b689909adc244204af714b9a19e158c0",
      "8c32a5f5cb724610a4ea8a5b42be5b28",
      "44db6a1a111148ceaa804f7302b0629b",
      "7e8253e0de7f426c9f9af4b15775c660",
      "adfbc16f0b6144b6ab06544ed060f8fe",
      "1425686f748e45b9921c501d0e5ce904",
      "632fb54ffc9b44b98d082d097c17d7de"
     ]
    },
    "execution": {
     "iopub.execute_input": "2021-09-29T08:57:05.265184Z",
     "iopub.status.busy": "2021-09-29T08:57:05.264428Z",
     "iopub.status.idle": "2021-09-29T08:57:08.584943Z",
     "shell.execute_reply": "2021-09-29T08:57:08.584106Z",
     "shell.execute_reply.started": "2021-09-29T08:57:05.265148Z"
    },
    "id": "agDlgrOix5Uj",
    "outputId": "d52e9acb-10d0-464f-c9f1-1947b7a7b0e6"
   },
   "outputs": [],
   "source": [
    "from transformers import AutoTokenizer\n",
    "    \n",
    "tokenizer = AutoTokenizer.from_pretrained(\"Helsinki-NLP/opus-mt-en-ro\")"
   ]
  },
  {
   "cell_type": "code",
   "execution_count": 10,
   "metadata": {
    "colab": {
     "base_uri": "https://localhost:8080/"
    },
    "execution": {
     "iopub.execute_input": "2021-09-29T08:57:08.597782Z",
     "iopub.status.busy": "2021-09-29T08:57:08.597236Z",
     "iopub.status.idle": "2021-09-29T08:57:08.605966Z",
     "shell.execute_reply": "2021-09-29T08:57:08.605056Z",
     "shell.execute_reply.started": "2021-09-29T08:57:08.597745Z"
    },
    "id": "qvYg6BXJx5Ul",
    "outputId": "06d8f836-7a16-4fdc-a23e-9d0973135a55"
   },
   "outputs": [
    {
     "name": "stdout",
     "output_type": "stream",
     "text": [
      "{'input_ids': [[10334, 1204, 3, 15, 8915, 27, 452, 59, 29579, 581, 23, 0], [235, 1705, 11, 32, 8, 1205, 5305, 59, 29579, 581, 2, 0]], 'attention_mask': [[1, 1, 1, 1, 1, 1, 1, 1, 1, 1, 1, 1], [1, 1, 1, 1, 1, 1, 1, 1, 1, 1, 1, 1]]}\n"
     ]
    }
   ],
   "source": [
    "with tokenizer.as_target_tokenizer():\n",
    "    print(tokenizer([\"Hello, this one sentence!\", \"This is another sentence.\"]))"
   ]
  },
  {
   "cell_type": "code",
   "execution_count": 11,
   "metadata": {
    "execution": {
     "iopub.execute_input": "2021-09-29T08:57:08.608929Z",
     "iopub.status.busy": "2021-09-29T08:57:08.607739Z",
     "iopub.status.idle": "2021-09-29T08:57:08.618192Z",
     "shell.execute_reply": "2021-09-29T08:57:08.617265Z",
     "shell.execute_reply.started": "2021-09-29T08:57:08.608897Z"
    },
    "id": "e1fnOpO6x5Um"
   },
   "outputs": [],
   "source": [
    "prefix = \"\"\n",
    "max_input_length = 128\n",
    "max_target_length = 128\n",
    "source_lang = \"en\"\n",
    "target_lang = \"ro\"\n",
    "def preprocess_function(examples):\n",
    "    inputs = [prefix + ex[source_lang] for ex in examples[\"translation\"]]\n",
    "    targets = [ex[target_lang] for ex in examples[\"translation\"]]\n",
    "    model_inputs = tokenizer(inputs, max_length=max_input_length, truncation=True)\n",
    "    # Setup the tokenizer for targets\n",
    "    with tokenizer.as_target_tokenizer():\n",
    "        labels = tokenizer(targets, max_length=max_target_length, truncation=True)\n",
    "    model_inputs[\"labels\"] = labels[\"input_ids\"]\n",
    "    return model_inputs"
   ]
  },
  {
   "cell_type": "code",
   "execution_count": 12,
   "metadata": {
    "colab": {
     "base_uri": "https://localhost:8080/"
    },
    "execution": {
     "iopub.execute_input": "2021-09-29T08:57:08.620404Z",
     "iopub.status.busy": "2021-09-29T08:57:08.619715Z",
     "iopub.status.idle": "2021-09-29T08:57:08.631201Z",
     "shell.execute_reply": "2021-09-29T08:57:08.630353Z",
     "shell.execute_reply.started": "2021-09-29T08:57:08.620369Z"
    },
    "id": "9uXJ6SFex5Un",
    "outputId": "b536ebfa-e98c-47d2-df9c-ae59689b91c2"
   },
   "outputs": [
    {
     "data": {
      "text/plain": [
       "{'input_ids': [[393, 4462, 14, 1137, 53, 216, 28636, 0], [24385, 14, 28636, 14, 4646, 4622, 53, 216, 28636, 0]], 'attention_mask': [[1, 1, 1, 1, 1, 1, 1, 1], [1, 1, 1, 1, 1, 1, 1, 1, 1, 1]], 'labels': [[42140, 494, 1750, 53, 8, 59, 903, 3543, 9, 15202, 0], [36199, 6612, 9, 15202, 122, 568, 35788, 21549, 53, 8, 59, 903, 3543, 9, 15202, 0]]}"
      ]
     },
     "execution_count": 12,
     "metadata": {},
     "output_type": "execute_result"
    }
   ],
   "source": [
    "preprocess_function(raw_datasets['train'][:2])"
   ]
  },
  {
   "cell_type": "code",
   "execution_count": 13,
   "metadata": {
    "colab": {
     "base_uri": "https://localhost:8080/",
     "height": 113,
     "referenced_widgets": [
      "f56b5b8abcfc415fbf46ca0f2fe619d0",
      "ef09f1189d75431591bebf33d288dacc",
      "12e50a27f9f24575bd86305f3b609095",
      "24cc9a4f2e4a411296dd6822329e5815",
      "f83d5ec459fe4dfd9ebf46fcca9895ee",
      "382f2bc5fc944482861293a496fb03ed",
      "330c9a9e97c9436f9d29bb12c586253a",
      "af955c59afc54adc8f1072d371b688bc",
      "5b4edc877e524610bb9ecc8103763250",
      "d3190da3507f4ab4be03027179566508",
      "7dac8e5e55ce4e638942c4299b377e3a",
      "41467eb21e744e66a47790e274defb66",
      "c0e50be8469a429fb8852fe3eb3a2ede"
     ]
    },
    "execution": {
     "iopub.execute_input": "2021-09-29T08:57:08.633591Z",
     "iopub.status.busy": "2021-09-29T08:57:08.633273Z",
     "iopub.status.idle": "2021-09-29T08:57:11.523108Z",
     "shell.execute_reply": "2021-09-29T08:57:11.522369Z",
     "shell.execute_reply.started": "2021-09-29T08:57:08.633559Z"
    },
    "id": "uZlsJFZnx5Uo",
    "outputId": "e39c565b-e6cb-489b-a5ca-a565624b89cf"
   },
   "outputs": [
    {
     "data": {
      "application/vnd.jupyter.widget-view+json": {
       "model_id": "5245a6670c4c44c0ac952abaaa6eae8a",
       "version_major": 2,
       "version_minor": 0
      },
      "text/plain": [
       "  0%|          | 0/611 [00:00<?, ?ba/s]"
      ]
     },
     "metadata": {},
     "output_type": "display_data"
    },
    {
     "data": {
      "application/vnd.jupyter.widget-view+json": {
       "model_id": "6654fce1025a4bf08bfa921d9cd2c6f6",
       "version_major": 2,
       "version_minor": 0
      },
      "text/plain": [
       "  0%|          | 0/2 [00:00<?, ?ba/s]"
      ]
     },
     "metadata": {},
     "output_type": "display_data"
    },
    {
     "data": {
      "application/vnd.jupyter.widget-view+json": {
       "model_id": "0e2db38a63344b0ca0714aa1a836406c",
       "version_major": 2,
       "version_minor": 0
      },
      "text/plain": [
       "  0%|          | 0/2 [00:00<?, ?ba/s]"
      ]
     },
     "metadata": {},
     "output_type": "display_data"
    }
   ],
   "source": [
    "tokenized_datasets = raw_datasets.map(preprocess_function, batched=True)"
   ]
  },
  {
   "cell_type": "markdown",
   "metadata": {
    "id": "b4kA3jpsHcFE"
   },
   "source": [
    "## Fine-tuning the model"
   ]
  },
  {
   "cell_type": "code",
   "execution_count": 24,
   "metadata": {
    "colab": {
     "base_uri": "https://localhost:8080/",
     "height": 49,
     "referenced_widgets": [
      "001c2cf8d21d4703bc190149a82d06ab",
      "c8c29e7a13804b6c9e97c3ff425bd81d",
      "13c6c16b336c404fa84cba2ee42debde",
      "31bbbf7e34a14335b628add663c71642",
      "a23d83e9f0ea4ac8b57ec5f1614414dc",
      "ae117dc6e1fb41eca964e34601c6aa6c",
      "7616cd08bb494b8f988b9e893bb8bb25",
      "064aa5db0924410bb17646220304faea",
      "c0e574d69ffb426b87d3445d26e02926",
      "c2c7fbedceba45aa822c96d7f1cb6134",
      "48eb8b6feb8a47b79fbd924a7a5c6df1"
     ]
    },
    "execution": {
     "iopub.execute_input": "2021-09-29T08:57:11.528330Z",
     "iopub.status.busy": "2021-09-29T08:57:11.527425Z",
     "iopub.status.idle": "2021-09-29T08:57:22.585417Z",
     "shell.execute_reply": "2021-09-29T08:57:22.584582Z",
     "shell.execute_reply.started": "2021-09-29T08:57:11.528289Z"
    },
    "id": "IvrIjd-Lx5Uq",
    "outputId": "07457f36-49c9-419d-b0cc-dbe8429c401a"
   },
   "outputs": [
    {
     "name": "stderr",
     "output_type": "stream",
     "text": [
      "https://huggingface.co/Helsinki-NLP/opus-mt-en-it/resolve/main/config.json not found in cache or force_download set to True, downloading to /home/gabriel/.cache/huggingface/transformers/tmp3vhjylp2\n"
     ]
    },
    {
     "data": {
      "application/vnd.jupyter.widget-view+json": {
       "model_id": "c3adc1a032454b83ba416a52ce632afb",
       "version_major": 2,
       "version_minor": 0
      },
      "text/plain": [
       "Downloading:   0%|          | 0.00/1.11k [00:00<?, ?B/s]"
      ]
     },
     "metadata": {},
     "output_type": "display_data"
    },
    {
     "name": "stderr",
     "output_type": "stream",
     "text": [
      "storing https://huggingface.co/Helsinki-NLP/opus-mt-en-it/resolve/main/config.json in cache at /home/gabriel/.cache/huggingface/transformers/c8e8f32034184208868243df38421204a3616f39385239385e06bcbfd876ee03.fd3818756242be8e05effce77b1609dba7d808f97edbbf5fc654365ab6a94919\n",
      "creating metadata file for /home/gabriel/.cache/huggingface/transformers/c8e8f32034184208868243df38421204a3616f39385239385e06bcbfd876ee03.fd3818756242be8e05effce77b1609dba7d808f97edbbf5fc654365ab6a94919\n",
      "loading configuration file https://huggingface.co/Helsinki-NLP/opus-mt-en-it/resolve/main/config.json from cache at /home/gabriel/.cache/huggingface/transformers/c8e8f32034184208868243df38421204a3616f39385239385e06bcbfd876ee03.fd3818756242be8e05effce77b1609dba7d808f97edbbf5fc654365ab6a94919\n",
      "Model config MarianConfig {\n",
      "  \"_name_or_path\": \"Helsinki-NLP/opus-mt-en-it\",\n",
      "  \"_num_labels\": 3,\n",
      "  \"activation_dropout\": 0.0,\n",
      "  \"activation_function\": \"swish\",\n",
      "  \"add_bias_logits\": false,\n",
      "  \"add_final_layer_norm\": false,\n",
      "  \"architectures\": [\n",
      "    \"MarianMTModel\"\n",
      "  ],\n",
      "  \"attention_dropout\": 0.0,\n",
      "  \"bad_words_ids\": [\n",
      "    [\n",
      "      80034\n",
      "    ]\n",
      "  ],\n",
      "  \"bos_token_id\": 0,\n",
      "  \"classif_dropout\": 0.0,\n",
      "  \"classifier_dropout\": 0.0,\n",
      "  \"d_model\": 512,\n",
      "  \"decoder_attention_heads\": 8,\n",
      "  \"decoder_ffn_dim\": 2048,\n",
      "  \"decoder_layerdrop\": 0.0,\n",
      "  \"decoder_layers\": 6,\n",
      "  \"decoder_start_token_id\": 80034,\n",
      "  \"dropout\": 0.1,\n",
      "  \"encoder_attention_heads\": 8,\n",
      "  \"encoder_ffn_dim\": 2048,\n",
      "  \"encoder_layerdrop\": 0.0,\n",
      "  \"encoder_layers\": 6,\n",
      "  \"eos_token_id\": 0,\n",
      "  \"forced_eos_token_id\": 0,\n",
      "  \"id2label\": {\n",
      "    \"0\": \"LABEL_0\",\n",
      "    \"1\": \"LABEL_1\",\n",
      "    \"2\": \"LABEL_2\"\n",
      "  },\n",
      "  \"init_std\": 0.02,\n",
      "  \"is_encoder_decoder\": true,\n",
      "  \"label2id\": {\n",
      "    \"LABEL_0\": 0,\n",
      "    \"LABEL_1\": 1,\n",
      "    \"LABEL_2\": 2\n",
      "  },\n",
      "  \"max_length\": 512,\n",
      "  \"max_position_embeddings\": 512,\n",
      "  \"model_type\": \"marian\",\n",
      "  \"normalize_before\": false,\n",
      "  \"normalize_embedding\": false,\n",
      "  \"num_beams\": 4,\n",
      "  \"num_hidden_layers\": 6,\n",
      "  \"pad_token_id\": 80034,\n",
      "  \"scale_embedding\": true,\n",
      "  \"static_position_embeddings\": true,\n",
      "  \"transformers_version\": \"4.15.0\",\n",
      "  \"use_cache\": true,\n",
      "  \"vocab_size\": 80035\n",
      "}\n",
      "\n",
      "https://huggingface.co/Helsinki-NLP/opus-mt-en-it/resolve/main/pytorch_model.bin not found in cache or force_download set to True, downloading to /home/gabriel/.cache/huggingface/transformers/tmpp_s2vebo\n"
     ]
    },
    {
     "data": {
      "application/vnd.jupyter.widget-view+json": {
       "model_id": "e1b8ea87f89944eeaab67ce08e4c5a89",
       "version_major": 2,
       "version_minor": 0
      },
      "text/plain": [
       "Downloading:   0%|          | 0.00/327M [00:00<?, ?B/s]"
      ]
     },
     "metadata": {},
     "output_type": "display_data"
    },
    {
     "name": "stderr",
     "output_type": "stream",
     "text": [
      "storing https://huggingface.co/Helsinki-NLP/opus-mt-en-it/resolve/main/pytorch_model.bin in cache at /home/gabriel/.cache/huggingface/transformers/9f3f7f8a1db4960f6bc1e56c2371c0a0d660a592887ac11f257cbb58d1502ecf.e7b48d502e6626706d68234549958f2446a59bbdce4a3c9dc96f1cb1e05c393e\n",
      "creating metadata file for /home/gabriel/.cache/huggingface/transformers/9f3f7f8a1db4960f6bc1e56c2371c0a0d660a592887ac11f257cbb58d1502ecf.e7b48d502e6626706d68234549958f2446a59bbdce4a3c9dc96f1cb1e05c393e\n",
      "loading weights file https://huggingface.co/Helsinki-NLP/opus-mt-en-it/resolve/main/pytorch_model.bin from cache at /home/gabriel/.cache/huggingface/transformers/9f3f7f8a1db4960f6bc1e56c2371c0a0d660a592887ac11f257cbb58d1502ecf.e7b48d502e6626706d68234549958f2446a59bbdce4a3c9dc96f1cb1e05c393e\n",
      "All model checkpoint weights were used when initializing MarianMTModel.\n",
      "\n",
      "All the weights of MarianMTModel were initialized from the model checkpoint at Helsinki-NLP/opus-mt-en-it.\n",
      "If your task is similar to the task the model of the checkpoint was trained on, you can already use MarianMTModel for predictions without further training.\n"
     ]
    }
   ],
   "source": [
    "from transformers import AutoModelForSeq2SeqLM, DataCollatorForSeq2Seq, Seq2SeqTrainingArguments, Seq2SeqTrainer\n",
    "model = AutoModelForSeq2SeqLM.from_pretrained(\"Helsinki-NLP/opus-mt-en-it\")"
   ]
  },
  {
   "cell_type": "code",
   "execution_count": 29,
   "metadata": {
    "colab": {
     "base_uri": "https://localhost:8080/"
    },
    "execution": {
     "iopub.execute_input": "2021-09-29T08:57:22.587052Z",
     "iopub.status.busy": "2021-09-29T08:57:22.586787Z",
     "iopub.status.idle": "2021-09-29T08:57:22.635312Z",
     "shell.execute_reply": "2021-09-29T08:57:22.634585Z",
     "shell.execute_reply.started": "2021-09-29T08:57:22.587019Z"
    },
    "id": "qk2p1KEwx5Ur",
    "outputId": "28118e90-17a6-460a-8694-3b50cc6660c5"
   },
   "outputs": [
    {
     "name": "stderr",
     "output_type": "stream",
     "text": [
      "PyTorch: setting up devices\n",
      "The default value for the training argument `--report_to` will change in v5 (from all installed integrations to none). In v5, you will need to use `--report_to all` to get the same behavior as now. You should start updating your code and make this info disappear :-).\n"
     ]
    }
   ],
   "source": [
    "batch_size = 16\n",
    "model_name = \"Helsinki-NLP/opus-mt-en-it\".split(\"/\")[-1]\n",
    "args = Seq2SeqTrainingArguments(\n",
    "    f\"{model_name}-finetuned-{source_lang}-to-{target_lang}\",\n",
    "    evaluation_strategy = \"epoch\",\n",
    "    learning_rate=2e-5,\n",
    "    per_device_train_batch_size=batch_size,\n",
    "    per_device_eval_batch_size=batch_size,\n",
    "    weight_decay=0.01,\n",
    "    save_total_limit=3,\n",
    "    num_train_epochs=20,\n",
    "    predict_with_generate=True    \n",
    ")"
   ]
  },
  {
   "cell_type": "code",
   "execution_count": 30,
   "metadata": {
    "colab": {
     "base_uri": "https://localhost:8080/"
    },
    "id": "Oat3xRW7Mgv6",
    "outputId": "9510456b-f3a6-4689-cd4c-c3a9e915e8b3"
   },
   "outputs": [],
   "source": [
    "# from google.colab import drive\n",
    "# drive.mount('/content/drive')"
   ]
  },
  {
   "cell_type": "code",
   "execution_count": 31,
   "metadata": {
    "execution": {
     "iopub.execute_input": "2021-09-29T08:57:22.637140Z",
     "iopub.status.busy": "2021-09-29T08:57:22.636796Z",
     "iopub.status.idle": "2021-09-29T08:57:22.644241Z",
     "shell.execute_reply": "2021-09-29T08:57:22.643139Z",
     "shell.execute_reply.started": "2021-09-29T08:57:22.637105Z"
    },
    "id": "qV9wfuvZx5Us"
   },
   "outputs": [],
   "source": [
    "data_collator = DataCollatorForSeq2Seq(tokenizer, model=model)"
   ]
  },
  {
   "cell_type": "code",
   "execution_count": 32,
   "metadata": {
    "execution": {
     "iopub.execute_input": "2021-09-29T08:57:22.646446Z",
     "iopub.status.busy": "2021-09-29T08:57:22.646196Z",
     "iopub.status.idle": "2021-09-29T08:57:22.658436Z",
     "shell.execute_reply": "2021-09-29T08:57:22.657573Z",
     "shell.execute_reply.started": "2021-09-29T08:57:22.646415Z"
    },
    "id": "mHqp_FFhx5Uu"
   },
   "outputs": [],
   "source": [
    "import numpy as np\n",
    "def postprocess_text(preds, labels):\n",
    "    preds = [pred.strip() for pred in preds]\n",
    "    labels = [[label.strip()] for label in labels]\n",
    "    return preds, labels\n",
    "def compute_metrics(eval_preds):\n",
    "    preds, labels = eval_preds\n",
    "    if isinstance(preds, tuple):\n",
    "        preds = preds[0]\n",
    "    decoded_preds = tokenizer.batch_decode(preds, skip_special_tokens=True)\n",
    "    # Replace -100 in the labels as we can't decode them.\n",
    "    labels = np.where(labels != -100, labels, tokenizer.pad_token_id)\n",
    "    decoded_labels = tokenizer.batch_decode(labels, skip_special_tokens=True)\n",
    "    # Some simple post-processing\n",
    "    decoded_preds, decoded_labels = postprocess_text(decoded_preds, decoded_labels)\n",
    "    result = metric.compute(predictions=decoded_preds, references=decoded_labels)\n",
    "    result = {\"bleu\": result[\"score\"]}\n",
    "    prediction_lens = [np.count_nonzero(pred != tokenizer.pad_token_id) for pred in preds]\n",
    "    result[\"gen_len\"] = np.mean(prediction_lens)\n",
    "    result = {k: round(v, 4) for k, v in result.items()}\n",
    "    return result"
   ]
  },
  {
   "cell_type": "code",
   "execution_count": 33,
   "metadata": {
    "execution": {
     "iopub.execute_input": "2021-09-29T08:57:22.660603Z",
     "iopub.status.busy": "2021-09-29T08:57:22.660242Z",
     "iopub.status.idle": "2021-09-29T08:57:27.828358Z",
     "shell.execute_reply": "2021-09-29T08:57:27.827587Z",
     "shell.execute_reply.started": "2021-09-29T08:57:22.660567Z"
    },
    "id": "c7zuF8rLx5Uy"
   },
   "outputs": [],
   "source": [
    "trainer = Seq2SeqTrainer(\n",
    "    model,\n",
    "    args,\n",
    "    train_dataset=tokenized_datasets[\"train\"],\n",
    "    eval_dataset=tokenized_datasets[\"validation\"],\n",
    "    data_collator=data_collator,\n",
    "    tokenizer=tokenizer,\n",
    "    compute_metrics=compute_metrics\n",
    ")"
   ]
  },
  {
   "cell_type": "code",
   "execution_count": null,
   "metadata": {
    "colab": {
     "base_uri": "https://localhost:8080/",
     "height": 1000
    },
    "execution": {
     "iopub.execute_input": "2021-09-29T08:57:27.830598Z",
     "iopub.status.busy": "2021-09-29T08:57:27.830391Z",
     "iopub.status.idle": "2021-09-29T12:56:49.229770Z",
     "shell.execute_reply": "2021-09-29T12:56:49.228818Z",
     "shell.execute_reply.started": "2021-09-29T08:57:27.830575Z"
    },
    "id": "sonIRAfDx5Uz",
    "outputId": "8a0bc390-6900-424c-f92e-e3a841ead986"
   },
   "outputs": [
    {
     "name": "stderr",
     "output_type": "stream",
     "text": [
      "The following columns in the training set  don't have a corresponding argument in `MarianMTModel.forward` and have been ignored: translation.\n",
      "***** Running training *****\n",
      "  Num examples = 610320\n",
      "  Num Epochs = 20\n",
      "  Instantaneous batch size per device = 16\n",
      "  Total train batch size (w. parallel, distributed & accumulation) = 16\n",
      "  Gradient Accumulation steps = 1\n",
      "  Total optimization steps = 762900\n"
     ]
    },
    {
     "data": {
      "text/html": [
       "\n",
       "    <div>\n",
       "      \n",
       "      <progress value='2970' max='762900' style='width:300px; height:20px; vertical-align: middle;'></progress>\n",
       "      [  2970/762900 06:57 < 29:39:35, 7.12 it/s, Epoch 0.08/20]\n",
       "    </div>\n",
       "    <table border=\"1\" class=\"dataframe\">\n",
       "  <thead>\n",
       "    <tr style=\"text-align: left;\">\n",
       "      <th>Epoch</th>\n",
       "      <th>Training Loss</th>\n",
       "      <th>Validation Loss</th>\n",
       "    </tr>\n",
       "  </thead>\n",
       "  <tbody>\n",
       "  </tbody>\n",
       "</table><p>"
      ],
      "text/plain": [
       "<IPython.core.display.HTML object>"
      ]
     },
     "metadata": {},
     "output_type": "display_data"
    },
    {
     "name": "stderr",
     "output_type": "stream",
     "text": [
      "Saving model checkpoint to opus-mt-en-it-finetuned-en-to-ro/checkpoint-500\n",
      "Configuration saved in opus-mt-en-it-finetuned-en-to-ro/checkpoint-500/config.json\n",
      "Model weights saved in opus-mt-en-it-finetuned-en-to-ro/checkpoint-500/pytorch_model.bin\n",
      "tokenizer config file saved in opus-mt-en-it-finetuned-en-to-ro/checkpoint-500/tokenizer_config.json\n",
      "Special tokens file saved in opus-mt-en-it-finetuned-en-to-ro/checkpoint-500/special_tokens_map.json\n",
      "Saving model checkpoint to opus-mt-en-it-finetuned-en-to-ro/checkpoint-1000\n",
      "Configuration saved in opus-mt-en-it-finetuned-en-to-ro/checkpoint-1000/config.json\n",
      "Model weights saved in opus-mt-en-it-finetuned-en-to-ro/checkpoint-1000/pytorch_model.bin\n",
      "tokenizer config file saved in opus-mt-en-it-finetuned-en-to-ro/checkpoint-1000/tokenizer_config.json\n",
      "Special tokens file saved in opus-mt-en-it-finetuned-en-to-ro/checkpoint-1000/special_tokens_map.json\n",
      "Saving model checkpoint to opus-mt-en-it-finetuned-en-to-ro/checkpoint-1500\n",
      "Configuration saved in opus-mt-en-it-finetuned-en-to-ro/checkpoint-1500/config.json\n",
      "Model weights saved in opus-mt-en-it-finetuned-en-to-ro/checkpoint-1500/pytorch_model.bin\n",
      "tokenizer config file saved in opus-mt-en-it-finetuned-en-to-ro/checkpoint-1500/tokenizer_config.json\n",
      "Special tokens file saved in opus-mt-en-it-finetuned-en-to-ro/checkpoint-1500/special_tokens_map.json\n",
      "Saving model checkpoint to opus-mt-en-it-finetuned-en-to-ro/checkpoint-2000\n",
      "Configuration saved in opus-mt-en-it-finetuned-en-to-ro/checkpoint-2000/config.json\n",
      "Model weights saved in opus-mt-en-it-finetuned-en-to-ro/checkpoint-2000/pytorch_model.bin\n",
      "tokenizer config file saved in opus-mt-en-it-finetuned-en-to-ro/checkpoint-2000/tokenizer_config.json\n",
      "Special tokens file saved in opus-mt-en-it-finetuned-en-to-ro/checkpoint-2000/special_tokens_map.json\n",
      "Deleting older checkpoint [opus-mt-en-it-finetuned-en-to-ro/checkpoint-500] due to args.save_total_limit\n",
      "Saving model checkpoint to opus-mt-en-it-finetuned-en-to-ro/checkpoint-2500\n",
      "Configuration saved in opus-mt-en-it-finetuned-en-to-ro/checkpoint-2500/config.json\n",
      "Model weights saved in opus-mt-en-it-finetuned-en-to-ro/checkpoint-2500/pytorch_model.bin\n",
      "tokenizer config file saved in opus-mt-en-it-finetuned-en-to-ro/checkpoint-2500/tokenizer_config.json\n",
      "Special tokens file saved in opus-mt-en-it-finetuned-en-to-ro/checkpoint-2500/special_tokens_map.json\n",
      "Deleting older checkpoint [opus-mt-en-it-finetuned-en-to-ro/checkpoint-1000] due to args.save_total_limit\n"
     ]
    }
   ],
   "source": [
    "trainer.train()"
   ]
  },
  {
   "cell_type": "code",
   "execution_count": null,
   "metadata": {
    "colab": {
     "base_uri": "https://localhost:8080/"
    },
    "execution": {
     "iopub.execute_input": "2021-09-29T13:00:10.592738Z",
     "iopub.status.busy": "2021-09-29T13:00:10.592481Z",
     "iopub.status.idle": "2021-09-29T13:00:10.610861Z",
     "shell.execute_reply": "2021-09-29T13:00:10.609931Z",
     "shell.execute_reply.started": "2021-09-29T13:00:10.592711Z"
    },
    "id": "Y-SSyPwox5U1",
    "outputId": "c06f1ef4-8a5e-49a7-ef48-3c4997d3623f"
   },
   "outputs": [
    {
     "name": "stdout",
     "output_type": "stream",
     "text": [
      "opus-mt-en-ro-finetuned-en-to-ro/checkpoint-37000/vocab.json\n",
      "opus-mt-en-ro-finetuned-en-to-ro/checkpoint-37000/rng_state.pth\n",
      "opus-mt-en-ro-finetuned-en-to-ro/checkpoint-37000/config.json\n",
      "opus-mt-en-ro-finetuned-en-to-ro/checkpoint-37000/tokenizer_config.json\n",
      "opus-mt-en-ro-finetuned-en-to-ro/checkpoint-37000/trainer_state.json\n",
      "opus-mt-en-ro-finetuned-en-to-ro/checkpoint-37000/scheduler.pt\n",
      "opus-mt-en-ro-finetuned-en-to-ro/checkpoint-37000/special_tokens_map.json\n",
      "opus-mt-en-ro-finetuned-en-to-ro/checkpoint-37000/pytorch_model.bin\n",
      "opus-mt-en-ro-finetuned-en-to-ro/checkpoint-37000/target.spm\n",
      "opus-mt-en-ro-finetuned-en-to-ro/checkpoint-37000/source.spm\n",
      "opus-mt-en-ro-finetuned-en-to-ro/checkpoint-37000/training_args.bin\n",
      "opus-mt-en-ro-finetuned-en-to-ro/checkpoint-37000/optimizer.pt\n",
      "opus-mt-en-ro-finetuned-en-to-ro/runs/Sep30_03-49-58_a84265f68a25/events.out.tfevents.1632973810.a84265f68a25.217.0\n",
      "opus-mt-en-ro-finetuned-en-to-ro/runs/Sep30_03-49-58_a84265f68a25/1632973810.56194/events.out.tfevents.1632973810.a84265f68a25.217.1\n",
      "opus-mt-en-ro-finetuned-en-to-ro/checkpoint-37500/vocab.json\n",
      "opus-mt-en-ro-finetuned-en-to-ro/checkpoint-37500/rng_state.pth\n",
      "opus-mt-en-ro-finetuned-en-to-ro/checkpoint-37500/config.json\n",
      "opus-mt-en-ro-finetuned-en-to-ro/checkpoint-37500/tokenizer_config.json\n",
      "opus-mt-en-ro-finetuned-en-to-ro/checkpoint-37500/trainer_state.json\n",
      "opus-mt-en-ro-finetuned-en-to-ro/checkpoint-37500/scheduler.pt\n",
      "opus-mt-en-ro-finetuned-en-to-ro/checkpoint-37500/special_tokens_map.json\n",
      "opus-mt-en-ro-finetuned-en-to-ro/checkpoint-37500/pytorch_model.bin\n",
      "opus-mt-en-ro-finetuned-en-to-ro/checkpoint-37500/target.spm\n",
      "opus-mt-en-ro-finetuned-en-to-ro/checkpoint-37500/source.spm\n",
      "opus-mt-en-ro-finetuned-en-to-ro/checkpoint-37500/training_args.bin\n",
      "opus-mt-en-ro-finetuned-en-to-ro/checkpoint-37500/optimizer.pt\n",
      "opus-mt-en-ro-finetuned-en-to-ro/checkpoint-38000/vocab.json\n",
      "opus-mt-en-ro-finetuned-en-to-ro/checkpoint-38000/rng_state.pth\n",
      "opus-mt-en-ro-finetuned-en-to-ro/checkpoint-38000/config.json\n",
      "opus-mt-en-ro-finetuned-en-to-ro/checkpoint-38000/tokenizer_config.json\n",
      "opus-mt-en-ro-finetuned-en-to-ro/checkpoint-38000/trainer_state.json\n",
      "opus-mt-en-ro-finetuned-en-to-ro/checkpoint-38000/scheduler.pt\n",
      "opus-mt-en-ro-finetuned-en-to-ro/checkpoint-38000/special_tokens_map.json\n",
      "opus-mt-en-ro-finetuned-en-to-ro/checkpoint-38000/pytorch_model.bin\n",
      "opus-mt-en-ro-finetuned-en-to-ro/checkpoint-38000/target.spm\n",
      "opus-mt-en-ro-finetuned-en-to-ro/checkpoint-38000/source.spm\n",
      "opus-mt-en-ro-finetuned-en-to-ro/checkpoint-38000/training_args.bin\n",
      "opus-mt-en-ro-finetuned-en-to-ro/checkpoint-38000/optimizer.pt\n"
     ]
    }
   ],
   "source": [
    "import os\n",
    "for dirname, _, filenames in os.walk('opus-mt-en-ro-finetuned-en-to-ro'):\n",
    "    for filename in filenames:\n",
    "        print(os.path.join(dirname, filename))"
   ]
  },
  {
   "cell_type": "markdown",
   "metadata": {
    "id": "oeLJF9PJINyR"
   },
   "source": [
    "Our fine tuned model already saved under *opus-mt-en-ro-finetuned-en-to-ro/checkpoint-38000*\n",
    "\n",
    "Load the model and translate some text from english to romanian"
   ]
  },
  {
   "cell_type": "code",
   "execution_count": null,
   "metadata": {
    "colab": {
     "base_uri": "https://localhost:8080/"
    },
    "execution": {
     "iopub.execute_input": "2021-09-29T13:05:05.324871Z",
     "iopub.status.busy": "2021-09-29T13:05:05.324272Z",
     "iopub.status.idle": "2021-09-29T13:05:05.504556Z",
     "shell.execute_reply": "2021-09-29T13:05:05.503605Z",
     "shell.execute_reply.started": "2021-09-29T13:05:05.324816Z"
    },
    "id": "kByQ_vxTx5U2",
    "outputId": "c2fef526-afee-4309-9bb5-aef945b31b56"
   },
   "outputs": [
    {
     "name": "stderr",
     "output_type": "stream",
     "text": [
      "Didn't find file opus-mt-en-ro-finetuned-en-to-ro/checkpoint-38000/added_tokens.json. We won't load it.\n",
      "Didn't find file opus-mt-en-ro-finetuned-en-to-ro/checkpoint-38000/tokenizer.json. We won't load it.\n",
      "loading file opus-mt-en-ro-finetuned-en-to-ro/checkpoint-38000/source.spm\n",
      "loading file opus-mt-en-ro-finetuned-en-to-ro/checkpoint-38000/target.spm\n",
      "loading file opus-mt-en-ro-finetuned-en-to-ro/checkpoint-38000/vocab.json\n",
      "loading file opus-mt-en-ro-finetuned-en-to-ro/checkpoint-38000/tokenizer_config.json\n",
      "loading file None\n",
      "loading file opus-mt-en-ro-finetuned-en-to-ro/checkpoint-38000/special_tokens_map.json\n",
      "loading file None\n"
     ]
    },
    {
     "name": "stdout",
     "output_type": "stream",
     "text": [
      "[]\n"
     ]
    }
   ],
   "source": [
    "from transformers import MarianMTModel, MarianTokenizer\n",
    "src_text = ['My name is Sarah and I live in London']\n",
    "\n",
    "model_name = 'opus-mt-en-ro-finetuned-en-to-ro/checkpoint-38000'\n",
    "tokenizer = MarianTokenizer.from_pretrained(model_name)\n",
    "print(tokenizer.supported_language_codes)\n",
    "\n",
    "model = MarianMTModel.from_pretrained(model_name)\n",
    "translated = model.generate(**tokenizer(src_text, return_tensors=\"pt\", padding=True))\n",
    "[tokenizer.decode(t, skip_special_tokens=True) for t in translated]"
   ]
  }
 ],
 "metadata": {
  "accelerator": "GPU",
  "colab": {
   "name": "fine-tune-hugging-face-translation-model.ipynb",
   "provenance": []
  },
  "kernelspec": {
   "display_name": "Python 3 (ipykernel)",
   "language": "python",
   "name": "python3"
  },
  "language_info": {
   "codemirror_mode": {
    "name": "ipython",
    "version": 3
   },
   "file_extension": ".py",
   "mimetype": "text/x-python",
   "name": "python",
   "nbconvert_exporter": "python",
   "pygments_lexer": "ipython3",
   "version": "3.9.7"
  },
  "widgets": {
   "application/vnd.jupyter.widget-state+json": {
    "001c2cf8d21d4703bc190149a82d06ab": {
     "model_module": "@jupyter-widgets/controls",
     "model_module_version": "1.5.0",
     "model_name": "HBoxModel",
     "state": {
      "_dom_classes": [],
      "_model_module": "@jupyter-widgets/controls",
      "_model_module_version": "1.5.0",
      "_model_name": "HBoxModel",
      "_view_count": null,
      "_view_module": "@jupyter-widgets/controls",
      "_view_module_version": "1.5.0",
      "_view_name": "HBoxView",
      "box_style": "",
      "children": [
       "IPY_MODEL_13c6c16b336c404fa84cba2ee42debde",
       "IPY_MODEL_31bbbf7e34a14335b628add663c71642",
       "IPY_MODEL_a23d83e9f0ea4ac8b57ec5f1614414dc"
      ],
      "layout": "IPY_MODEL_c8c29e7a13804b6c9e97c3ff425bd81d"
     }
    },
    "04672fbdc8754babbb7bb3bfb7bcfd2e": {
     "model_module": "@jupyter-widgets/base",
     "model_module_version": "1.2.0",
     "model_name": "LayoutModel",
     "state": {
      "_model_module": "@jupyter-widgets/base",
      "_model_module_version": "1.2.0",
      "_model_name": "LayoutModel",
      "_view_count": null,
      "_view_module": "@jupyter-widgets/base",
      "_view_module_version": "1.2.0",
      "_view_name": "LayoutView",
      "align_content": null,
      "align_items": null,
      "align_self": null,
      "border": null,
      "bottom": null,
      "display": null,
      "flex": null,
      "flex_flow": null,
      "grid_area": null,
      "grid_auto_columns": null,
      "grid_auto_flow": null,
      "grid_auto_rows": null,
      "grid_column": null,
      "grid_gap": null,
      "grid_row": null,
      "grid_template_areas": null,
      "grid_template_columns": null,
      "grid_template_rows": null,
      "height": null,
      "justify_content": null,
      "justify_items": null,
      "left": null,
      "margin": null,
      "max_height": null,
      "max_width": null,
      "min_height": null,
      "min_width": null,
      "object_fit": null,
      "object_position": null,
      "order": null,
      "overflow": null,
      "overflow_x": null,
      "overflow_y": null,
      "padding": null,
      "right": null,
      "top": null,
      "visibility": null,
      "width": null
     }
    },
    "064aa5db0924410bb17646220304faea": {
     "model_module": "@jupyter-widgets/controls",
     "model_module_version": "1.5.0",
     "model_name": "ProgressStyleModel",
     "state": {
      "_model_module": "@jupyter-widgets/controls",
      "_model_module_version": "1.5.0",
      "_model_name": "ProgressStyleModel",
      "_view_count": null,
      "_view_module": "@jupyter-widgets/base",
      "_view_module_version": "1.2.0",
      "_view_name": "StyleView",
      "bar_color": null,
      "description_width": ""
     }
    },
    "0c2955e8cff44b5ba998ca584e485e54": {
     "model_module": "@jupyter-widgets/base",
     "model_module_version": "1.2.0",
     "model_name": "LayoutModel",
     "state": {
      "_model_module": "@jupyter-widgets/base",
      "_model_module_version": "1.2.0",
      "_model_name": "LayoutModel",
      "_view_count": null,
      "_view_module": "@jupyter-widgets/base",
      "_view_module_version": "1.2.0",
      "_view_name": "LayoutView",
      "align_content": null,
      "align_items": null,
      "align_self": null,
      "border": null,
      "bottom": null,
      "display": null,
      "flex": null,
      "flex_flow": null,
      "grid_area": null,
      "grid_auto_columns": null,
      "grid_auto_flow": null,
      "grid_auto_rows": null,
      "grid_column": null,
      "grid_gap": null,
      "grid_row": null,
      "grid_template_areas": null,
      "grid_template_columns": null,
      "grid_template_rows": null,
      "height": null,
      "justify_content": null,
      "justify_items": null,
      "left": null,
      "margin": null,
      "max_height": null,
      "max_width": null,
      "min_height": null,
      "min_width": null,
      "object_fit": null,
      "object_position": null,
      "order": null,
      "overflow": null,
      "overflow_x": null,
      "overflow_y": null,
      "padding": null,
      "right": null,
      "top": null,
      "visibility": null,
      "width": null
     }
    },
    "12e50a27f9f24575bd86305f3b609095": {
     "model_module": "@jupyter-widgets/controls",
     "model_module_version": "1.5.0",
     "model_name": "HTMLModel",
     "state": {
      "_dom_classes": [],
      "_model_module": "@jupyter-widgets/controls",
      "_model_module_version": "1.5.0",
      "_model_name": "HTMLModel",
      "_view_count": null,
      "_view_module": "@jupyter-widgets/controls",
      "_view_module_version": "1.5.0",
      "_view_name": "HTMLView",
      "description": "",
      "description_tooltip": null,
      "layout": "IPY_MODEL_330c9a9e97c9436f9d29bb12c586253a",
      "placeholder": "​",
      "style": "IPY_MODEL_382f2bc5fc944482861293a496fb03ed",
      "value": "100%"
     }
    },
    "13c6c16b336c404fa84cba2ee42debde": {
     "model_module": "@jupyter-widgets/controls",
     "model_module_version": "1.5.0",
     "model_name": "HTMLModel",
     "state": {
      "_dom_classes": [],
      "_model_module": "@jupyter-widgets/controls",
      "_model_module_version": "1.5.0",
      "_model_name": "HTMLModel",
      "_view_count": null,
      "_view_module": "@jupyter-widgets/controls",
      "_view_module_version": "1.5.0",
      "_view_name": "HTMLView",
      "description": "",
      "description_tooltip": null,
      "layout": "IPY_MODEL_7616cd08bb494b8f988b9e893bb8bb25",
      "placeholder": "​",
      "style": "IPY_MODEL_ae117dc6e1fb41eca964e34601c6aa6c",
      "value": "Downloading: 100%"
     }
    },
    "17ecb55f59dd411084d8692b80cc8cad": {
     "model_module": "@jupyter-widgets/controls",
     "model_module_version": "1.5.0",
     "model_name": "DescriptionStyleModel",
     "state": {
      "_model_module": "@jupyter-widgets/controls",
      "_model_module_version": "1.5.0",
      "_model_name": "DescriptionStyleModel",
      "_view_count": null,
      "_view_module": "@jupyter-widgets/base",
      "_view_module_version": "1.2.0",
      "_view_name": "StyleView",
      "description_width": ""
     }
    },
    "1962a04347894250993d2eb3d2946e5c": {
     "model_module": "@jupyter-widgets/base",
     "model_module_version": "1.2.0",
     "model_name": "LayoutModel",
     "state": {
      "_model_module": "@jupyter-widgets/base",
      "_model_module_version": "1.2.0",
      "_model_name": "LayoutModel",
      "_view_count": null,
      "_view_module": "@jupyter-widgets/base",
      "_view_module_version": "1.2.0",
      "_view_name": "LayoutView",
      "align_content": null,
      "align_items": null,
      "align_self": null,
      "border": null,
      "bottom": null,
      "display": null,
      "flex": null,
      "flex_flow": null,
      "grid_area": null,
      "grid_auto_columns": null,
      "grid_auto_flow": null,
      "grid_auto_rows": null,
      "grid_column": null,
      "grid_gap": null,
      "grid_row": null,
      "grid_template_areas": null,
      "grid_template_columns": null,
      "grid_template_rows": null,
      "height": null,
      "justify_content": null,
      "justify_items": null,
      "left": null,
      "margin": null,
      "max_height": null,
      "max_width": null,
      "min_height": null,
      "min_width": null,
      "object_fit": null,
      "object_position": null,
      "order": null,
      "overflow": null,
      "overflow_x": null,
      "overflow_y": null,
      "padding": null,
      "right": null,
      "top": null,
      "visibility": null,
      "width": null
     }
    },
    "23e6dd2b833d44aabc5b78a83d7ef136": {
     "model_module": "@jupyter-widgets/base",
     "model_module_version": "1.2.0",
     "model_name": "LayoutModel",
     "state": {
      "_model_module": "@jupyter-widgets/base",
      "_model_module_version": "1.2.0",
      "_model_name": "LayoutModel",
      "_view_count": null,
      "_view_module": "@jupyter-widgets/base",
      "_view_module_version": "1.2.0",
      "_view_name": "LayoutView",
      "align_content": null,
      "align_items": null,
      "align_self": null,
      "border": null,
      "bottom": null,
      "display": null,
      "flex": null,
      "flex_flow": null,
      "grid_area": null,
      "grid_auto_columns": null,
      "grid_auto_flow": null,
      "grid_auto_rows": null,
      "grid_column": null,
      "grid_gap": null,
      "grid_row": null,
      "grid_template_areas": null,
      "grid_template_columns": null,
      "grid_template_rows": null,
      "height": null,
      "justify_content": null,
      "justify_items": null,
      "left": null,
      "margin": null,
      "max_height": null,
      "max_width": null,
      "min_height": null,
      "min_width": null,
      "object_fit": null,
      "object_position": null,
      "order": null,
      "overflow": null,
      "overflow_x": null,
      "overflow_y": null,
      "padding": null,
      "right": null,
      "top": null,
      "visibility": null,
      "width": null
     }
    },
    "24cc9a4f2e4a411296dd6822329e5815": {
     "model_module": "@jupyter-widgets/controls",
     "model_module_version": "1.5.0",
     "model_name": "FloatProgressModel",
     "state": {
      "_dom_classes": [],
      "_model_module": "@jupyter-widgets/controls",
      "_model_module_version": "1.5.0",
      "_model_name": "FloatProgressModel",
      "_view_count": null,
      "_view_module": "@jupyter-widgets/controls",
      "_view_module_version": "1.5.0",
      "_view_name": "ProgressView",
      "bar_style": "success",
      "description": "",
      "description_tooltip": null,
      "layout": "IPY_MODEL_5b4edc877e524610bb9ecc8103763250",
      "max": 611,
      "min": 0,
      "orientation": "horizontal",
      "style": "IPY_MODEL_af955c59afc54adc8f1072d371b688bc",
      "value": 611
     }
    },
    "31bbbf7e34a14335b628add663c71642": {
     "model_module": "@jupyter-widgets/controls",
     "model_module_version": "1.5.0",
     "model_name": "FloatProgressModel",
     "state": {
      "_dom_classes": [],
      "_model_module": "@jupyter-widgets/controls",
      "_model_module_version": "1.5.0",
      "_model_name": "FloatProgressModel",
      "_view_count": null,
      "_view_module": "@jupyter-widgets/controls",
      "_view_module_version": "1.5.0",
      "_view_name": "ProgressView",
      "bar_style": "success",
      "description": "",
      "description_tooltip": null,
      "layout": "IPY_MODEL_c0e574d69ffb426b87d3445d26e02926",
      "max": 300887193,
      "min": 0,
      "orientation": "horizontal",
      "style": "IPY_MODEL_064aa5db0924410bb17646220304faea",
      "value": 300887193
     }
    },
    "330c9a9e97c9436f9d29bb12c586253a": {
     "model_module": "@jupyter-widgets/base",
     "model_module_version": "1.2.0",
     "model_name": "LayoutModel",
     "state": {
      "_model_module": "@jupyter-widgets/base",
      "_model_module_version": "1.2.0",
      "_model_name": "LayoutModel",
      "_view_count": null,
      "_view_module": "@jupyter-widgets/base",
      "_view_module_version": "1.2.0",
      "_view_name": "LayoutView",
      "align_content": null,
      "align_items": null,
      "align_self": null,
      "border": null,
      "bottom": null,
      "display": null,
      "flex": null,
      "flex_flow": null,
      "grid_area": null,
      "grid_auto_columns": null,
      "grid_auto_flow": null,
      "grid_auto_rows": null,
      "grid_column": null,
      "grid_gap": null,
      "grid_row": null,
      "grid_template_areas": null,
      "grid_template_columns": null,
      "grid_template_rows": null,
      "height": null,
      "justify_content": null,
      "justify_items": null,
      "left": null,
      "margin": null,
      "max_height": null,
      "max_width": null,
      "min_height": null,
      "min_width": null,
      "object_fit": null,
      "object_position": null,
      "order": null,
      "overflow": null,
      "overflow_x": null,
      "overflow_y": null,
      "padding": null,
      "right": null,
      "top": null,
      "visibility": null,
      "width": null
     }
    },
    "34fd15427c7d4f4189c9ce38924107b5": {
     "model_module": "@jupyter-widgets/controls",
     "model_module_version": "1.5.0",
     "model_name": "HBoxModel",
     "state": {
      "_dom_classes": [],
      "_model_module": "@jupyter-widgets/controls",
      "_model_module_version": "1.5.0",
      "_model_name": "HBoxModel",
      "_view_count": null,
      "_view_module": "@jupyter-widgets/controls",
      "_view_module_version": "1.5.0",
      "_view_name": "HBoxView",
      "box_style": "",
      "children": [
       "IPY_MODEL_53ec358cc4784c25a50e17bd8764fd56",
       "IPY_MODEL_c916612f156b457f828410fdc85c8def",
       "IPY_MODEL_de1e4b0f94f74b4380de2cb4447352f1"
      ],
      "layout": "IPY_MODEL_04672fbdc8754babbb7bb3bfb7bcfd2e"
     }
    },
    "382f2bc5fc944482861293a496fb03ed": {
     "model_module": "@jupyter-widgets/controls",
     "model_module_version": "1.5.0",
     "model_name": "DescriptionStyleModel",
     "state": {
      "_model_module": "@jupyter-widgets/controls",
      "_model_module_version": "1.5.0",
      "_model_name": "DescriptionStyleModel",
      "_view_count": null,
      "_view_module": "@jupyter-widgets/base",
      "_view_module_version": "1.2.0",
      "_view_name": "StyleView",
      "description_width": ""
     }
    },
    "4295f3dc0a494198b776f682b327924d": {
     "model_module": "@jupyter-widgets/controls",
     "model_module_version": "1.5.0",
     "model_name": "HTMLModel",
     "state": {
      "_dom_classes": [],
      "_model_module": "@jupyter-widgets/controls",
      "_model_module_version": "1.5.0",
      "_model_name": "HTMLModel",
      "_view_count": null,
      "_view_module": "@jupyter-widgets/controls",
      "_view_module_version": "1.5.0",
      "_view_name": "HTMLView",
      "description": "",
      "description_tooltip": null,
      "layout": "IPY_MODEL_ad65c758c1114adab13e6dbf29f660aa",
      "placeholder": "​",
      "style": "IPY_MODEL_eb10554a79a04ecf92517ba96ca956d9",
      "value": " 3.19k/? [00:00&lt;00:00, 53.1kB/s]"
     }
    },
    "44db6a1a111148ceaa804f7302b0629b": {
     "model_module": "@jupyter-widgets/base",
     "model_module_version": "1.2.0",
     "model_name": "LayoutModel",
     "state": {
      "_model_module": "@jupyter-widgets/base",
      "_model_module_version": "1.2.0",
      "_model_name": "LayoutModel",
      "_view_count": null,
      "_view_module": "@jupyter-widgets/base",
      "_view_module_version": "1.2.0",
      "_view_name": "LayoutView",
      "align_content": null,
      "align_items": null,
      "align_self": null,
      "border": null,
      "bottom": null,
      "display": null,
      "flex": null,
      "flex_flow": null,
      "grid_area": null,
      "grid_auto_columns": null,
      "grid_auto_flow": null,
      "grid_auto_rows": null,
      "grid_column": null,
      "grid_gap": null,
      "grid_row": null,
      "grid_template_areas": null,
      "grid_template_columns": null,
      "grid_template_rows": null,
      "height": null,
      "justify_content": null,
      "justify_items": null,
      "left": null,
      "margin": null,
      "max_height": null,
      "max_width": null,
      "min_height": null,
      "min_width": null,
      "object_fit": null,
      "object_position": null,
      "order": null,
      "overflow": null,
      "overflow_x": null,
      "overflow_y": null,
      "padding": null,
      "right": null,
      "top": null,
      "visibility": null,
      "width": null
     }
    },
    "48eb8b6feb8a47b79fbd924a7a5c6df1": {
     "model_module": "@jupyter-widgets/base",
     "model_module_version": "1.2.0",
     "model_name": "LayoutModel",
     "state": {
      "_model_module": "@jupyter-widgets/base",
      "_model_module_version": "1.2.0",
      "_model_name": "LayoutModel",
      "_view_count": null,
      "_view_module": "@jupyter-widgets/base",
      "_view_module_version": "1.2.0",
      "_view_name": "LayoutView",
      "align_content": null,
      "align_items": null,
      "align_self": null,
      "border": null,
      "bottom": null,
      "display": null,
      "flex": null,
      "flex_flow": null,
      "grid_area": null,
      "grid_auto_columns": null,
      "grid_auto_flow": null,
      "grid_auto_rows": null,
      "grid_column": null,
      "grid_gap": null,
      "grid_row": null,
      "grid_template_areas": null,
      "grid_template_columns": null,
      "grid_template_rows": null,
      "height": null,
      "justify_content": null,
      "justify_items": null,
      "left": null,
      "margin": null,
      "max_height": null,
      "max_width": null,
      "min_height": null,
      "min_width": null,
      "object_fit": null,
      "object_position": null,
      "order": null,
      "overflow": null,
      "overflow_x": null,
      "overflow_y": null,
      "padding": null,
      "right": null,
      "top": null,
      "visibility": null,
      "width": null
     }
    },
    "53ec358cc4784c25a50e17bd8764fd56": {
     "model_module": "@jupyter-widgets/controls",
     "model_module_version": "1.5.0",
     "model_name": "HTMLModel",
     "state": {
      "_dom_classes": [],
      "_model_module": "@jupyter-widgets/controls",
      "_model_module_version": "1.5.0",
      "_model_name": "HTMLModel",
      "_view_count": null,
      "_view_module": "@jupyter-widgets/controls",
      "_view_module_version": "1.5.0",
      "_view_name": "HTMLView",
      "description": "",
      "description_tooltip": null,
      "layout": "IPY_MODEL_ed5983a37cba4faea852cf2e13b355b4",
      "placeholder": "​",
      "style": "IPY_MODEL_c04bdf05ef684c8fb12ea45833394e77",
      "value": "Downloading: "
     }
    },
    "5600aa1b802c46b183417910f0e18cc4": {
     "model_module": "@jupyter-widgets/base",
     "model_module_version": "1.2.0",
     "model_name": "LayoutModel",
     "state": {
      "_model_module": "@jupyter-widgets/base",
      "_model_module_version": "1.2.0",
      "_model_name": "LayoutModel",
      "_view_count": null,
      "_view_module": "@jupyter-widgets/base",
      "_view_module_version": "1.2.0",
      "_view_name": "LayoutView",
      "align_content": null,
      "align_items": null,
      "align_self": null,
      "border": null,
      "bottom": null,
      "display": null,
      "flex": null,
      "flex_flow": null,
      "grid_area": null,
      "grid_auto_columns": null,
      "grid_auto_flow": null,
      "grid_auto_rows": null,
      "grid_column": null,
      "grid_gap": null,
      "grid_row": null,
      "grid_template_areas": null,
      "grid_template_columns": null,
      "grid_template_rows": null,
      "height": null,
      "justify_content": null,
      "justify_items": null,
      "left": null,
      "margin": null,
      "max_height": null,
      "max_width": null,
      "min_height": null,
      "min_width": null,
      "object_fit": null,
      "object_position": null,
      "order": null,
      "overflow": null,
      "overflow_x": null,
      "overflow_y": null,
      "padding": null,
      "right": null,
      "top": null,
      "visibility": null,
      "width": null
     }
    },
    "5b4edc877e524610bb9ecc8103763250": {
     "model_module": "@jupyter-widgets/base",
     "model_module_version": "1.2.0",
     "model_name": "LayoutModel",
     "state": {
      "_model_module": "@jupyter-widgets/base",
      "_model_module_version": "1.2.0",
      "_model_name": "LayoutModel",
      "_view_count": null,
      "_view_module": "@jupyter-widgets/base",
      "_view_module_version": "1.2.0",
      "_view_name": "LayoutView",
      "align_content": null,
      "align_items": null,
      "align_self": null,
      "border": null,
      "bottom": null,
      "display": null,
      "flex": null,
      "flex_flow": null,
      "grid_area": null,
      "grid_auto_columns": null,
      "grid_auto_flow": null,
      "grid_auto_rows": null,
      "grid_column": null,
      "grid_gap": null,
      "grid_row": null,
      "grid_template_areas": null,
      "grid_template_columns": null,
      "grid_template_rows": null,
      "height": null,
      "justify_content": null,
      "justify_items": null,
      "left": null,
      "margin": null,
      "max_height": null,
      "max_width": null,
      "min_height": null,
      "min_width": null,
      "object_fit": null,
      "object_position": null,
      "order": null,
      "overflow": null,
      "overflow_x": null,
      "overflow_y": null,
      "padding": null,
      "right": null,
      "top": null,
      "visibility": null,
      "width": null
     }
    },
    "7616cd08bb494b8f988b9e893bb8bb25": {
     "model_module": "@jupyter-widgets/base",
     "model_module_version": "1.2.0",
     "model_name": "LayoutModel",
     "state": {
      "_model_module": "@jupyter-widgets/base",
      "_model_module_version": "1.2.0",
      "_model_name": "LayoutModel",
      "_view_count": null,
      "_view_module": "@jupyter-widgets/base",
      "_view_module_version": "1.2.0",
      "_view_name": "LayoutView",
      "align_content": null,
      "align_items": null,
      "align_self": null,
      "border": null,
      "bottom": null,
      "display": null,
      "flex": null,
      "flex_flow": null,
      "grid_area": null,
      "grid_auto_columns": null,
      "grid_auto_flow": null,
      "grid_auto_rows": null,
      "grid_column": null,
      "grid_gap": null,
      "grid_row": null,
      "grid_template_areas": null,
      "grid_template_columns": null,
      "grid_template_rows": null,
      "height": null,
      "justify_content": null,
      "justify_items": null,
      "left": null,
      "margin": null,
      "max_height": null,
      "max_width": null,
      "min_height": null,
      "min_width": null,
      "object_fit": null,
      "object_position": null,
      "order": null,
      "overflow": null,
      "overflow_x": null,
      "overflow_y": null,
      "padding": null,
      "right": null,
      "top": null,
      "visibility": null,
      "width": null
     }
    },
    "7b69f1226cf5457aa164146a890a2c5e": {
     "model_module": "@jupyter-widgets/controls",
     "model_module_version": "1.5.0",
     "model_name": "HTMLModel",
     "state": {
      "_dom_classes": [],
      "_model_module": "@jupyter-widgets/controls",
      "_model_module_version": "1.5.0",
      "_model_name": "HTMLModel",
      "_view_count": null,
      "_view_module": "@jupyter-widgets/controls",
      "_view_module_version": "1.5.0",
      "_view_name": "HTMLView",
      "description": "",
      "description_tooltip": null,
      "layout": "IPY_MODEL_44db6a1a111148ceaa804f7302b0629b",
      "placeholder": "​",
      "style": "IPY_MODEL_8c32a5f5cb724610a4ea8a5b42be5b28",
      "value": " 42.0/42.0 [00:00&lt;00:00, 792B/s]"
     }
    },
    "7dac8e5e55ce4e638942c4299b377e3a": {
     "model_module": "@jupyter-widgets/base",
     "model_module_version": "1.2.0",
     "model_name": "LayoutModel",
     "state": {
      "_model_module": "@jupyter-widgets/base",
      "_model_module_version": "1.2.0",
      "_model_name": "LayoutModel",
      "_view_count": null,
      "_view_module": "@jupyter-widgets/base",
      "_view_module_version": "1.2.0",
      "_view_name": "LayoutView",
      "align_content": null,
      "align_items": null,
      "align_self": null,
      "border": null,
      "bottom": null,
      "display": null,
      "flex": null,
      "flex_flow": null,
      "grid_area": null,
      "grid_auto_columns": null,
      "grid_auto_flow": null,
      "grid_auto_rows": null,
      "grid_column": null,
      "grid_gap": null,
      "grid_row": null,
      "grid_template_areas": null,
      "grid_template_columns": null,
      "grid_template_rows": null,
      "height": null,
      "justify_content": null,
      "justify_items": null,
      "left": null,
      "margin": null,
      "max_height": null,
      "max_width": null,
      "min_height": null,
      "min_width": null,
      "object_fit": null,
      "object_position": null,
      "order": null,
      "overflow": null,
      "overflow_x": null,
      "overflow_y": null,
      "padding": null,
      "right": null,
      "top": null,
      "visibility": null,
      "width": null
     }
    },
    "8aff67fa78c640bf83598dd7fccc5b97": {
     "model_module": "@jupyter-widgets/controls",
     "model_module_version": "1.5.0",
     "model_name": "HTMLModel",
     "state": {
      "_dom_classes": [],
      "_model_module": "@jupyter-widgets/controls",
      "_model_module_version": "1.5.0",
      "_model_name": "HTMLModel",
      "_view_count": null,
      "_view_module": "@jupyter-widgets/controls",
      "_view_module_version": "1.5.0",
      "_view_name": "HTMLView",
      "description": "",
      "description_tooltip": null,
      "layout": "IPY_MODEL_1962a04347894250993d2eb3d2946e5c",
      "placeholder": "​",
      "style": "IPY_MODEL_d5ce787580584a40883fdac45df7917a",
      "value": "Downloading: 100%"
     }
    },
    "8c32a5f5cb724610a4ea8a5b42be5b28": {
     "model_module": "@jupyter-widgets/controls",
     "model_module_version": "1.5.0",
     "model_name": "DescriptionStyleModel",
     "state": {
      "_model_module": "@jupyter-widgets/controls",
      "_model_module_version": "1.5.0",
      "_model_name": "DescriptionStyleModel",
      "_view_count": null,
      "_view_module": "@jupyter-widgets/base",
      "_view_module_version": "1.2.0",
      "_view_name": "StyleView",
      "description_width": ""
     }
    },
    "97ed312717014144af97d250fcd74d9d": {
     "model_module": "@jupyter-widgets/controls",
     "model_module_version": "1.5.0",
     "model_name": "FloatProgressModel",
     "state": {
      "_dom_classes": [],
      "_model_module": "@jupyter-widgets/controls",
      "_model_module_version": "1.5.0",
      "_model_name": "FloatProgressModel",
      "_view_count": null,
      "_view_module": "@jupyter-widgets/controls",
      "_view_module_version": "1.5.0",
      "_view_name": "ProgressView",
      "bar_style": "success",
      "description": "",
      "description_tooltip": null,
      "layout": "IPY_MODEL_b689909adc244204af714b9a19e158c0",
      "max": 42,
      "min": 0,
      "orientation": "horizontal",
      "style": "IPY_MODEL_d5e1f379a1084c6e978a633698b4b02a",
      "value": 42
     }
    },
    "98b513fb020744bfbbe0678daa33f2aa": {
     "model_module": "@jupyter-widgets/controls",
     "model_module_version": "1.5.0",
     "model_name": "FloatProgressModel",
     "state": {
      "_dom_classes": [],
      "_model_module": "@jupyter-widgets/controls",
      "_model_module_version": "1.5.0",
      "_model_name": "FloatProgressModel",
      "_view_count": null,
      "_view_module": "@jupyter-widgets/controls",
      "_view_module_version": "1.5.0",
      "_view_name": "ProgressView",
      "bar_style": "success",
      "description": "",
      "description_tooltip": null,
      "layout": "IPY_MODEL_0c2955e8cff44b5ba998ca584e485e54",
      "max": 1520,
      "min": 0,
      "orientation": "horizontal",
      "style": "IPY_MODEL_e1d75f47a76d4bf8b2941fe543e46242",
      "value": 1520
     }
    },
    "a23d83e9f0ea4ac8b57ec5f1614414dc": {
     "model_module": "@jupyter-widgets/controls",
     "model_module_version": "1.5.0",
     "model_name": "HTMLModel",
     "state": {
      "_dom_classes": [],
      "_model_module": "@jupyter-widgets/controls",
      "_model_module_version": "1.5.0",
      "_model_name": "HTMLModel",
      "_view_count": null,
      "_view_module": "@jupyter-widgets/controls",
      "_view_module_version": "1.5.0",
      "_view_name": "HTMLView",
      "description": "",
      "description_tooltip": null,
      "layout": "IPY_MODEL_48eb8b6feb8a47b79fbd924a7a5c6df1",
      "placeholder": "​",
      "style": "IPY_MODEL_c2c7fbedceba45aa822c96d7f1cb6134",
      "value": " 287M/287M [00:10&lt;00:00, 29.0MB/s]"
     }
    },
    "a434f279213545da8a92da73bc320504": {
     "model_module": "@jupyter-widgets/base",
     "model_module_version": "1.2.0",
     "model_name": "LayoutModel",
     "state": {
      "_model_module": "@jupyter-widgets/base",
      "_model_module_version": "1.2.0",
      "_model_name": "LayoutModel",
      "_view_count": null,
      "_view_module": "@jupyter-widgets/base",
      "_view_module_version": "1.2.0",
      "_view_name": "LayoutView",
      "align_content": null,
      "align_items": null,
      "align_self": null,
      "border": null,
      "bottom": null,
      "display": null,
      "flex": null,
      "flex_flow": null,
      "grid_area": null,
      "grid_auto_columns": null,
      "grid_auto_flow": null,
      "grid_auto_rows": null,
      "grid_column": null,
      "grid_gap": null,
      "grid_row": null,
      "grid_template_areas": null,
      "grid_template_columns": null,
      "grid_template_rows": null,
      "height": null,
      "justify_content": null,
      "justify_items": null,
      "left": null,
      "margin": null,
      "max_height": null,
      "max_width": null,
      "min_height": null,
      "min_width": null,
      "object_fit": null,
      "object_position": null,
      "order": null,
      "overflow": null,
      "overflow_x": null,
      "overflow_y": null,
      "padding": null,
      "right": null,
      "top": null,
      "visibility": null,
      "width": null
     }
    },
    "a9aa1538562840f2b969340f1cbf8bbb": {
     "model_module": "@jupyter-widgets/controls",
     "model_module_version": "1.5.0",
     "model_name": "DescriptionStyleModel",
     "state": {
      "_model_module": "@jupyter-widgets/controls",
      "_model_module_version": "1.5.0",
      "_model_name": "DescriptionStyleModel",
      "_view_count": null,
      "_view_module": "@jupyter-widgets/base",
      "_view_module_version": "1.2.0",
      "_view_name": "StyleView",
      "description_width": ""
     }
    },
    "ad65c758c1114adab13e6dbf29f660aa": {
     "model_module": "@jupyter-widgets/base",
     "model_module_version": "1.2.0",
     "model_name": "LayoutModel",
     "state": {
      "_model_module": "@jupyter-widgets/base",
      "_model_module_version": "1.2.0",
      "_model_name": "LayoutModel",
      "_view_count": null,
      "_view_module": "@jupyter-widgets/base",
      "_view_module_version": "1.2.0",
      "_view_name": "LayoutView",
      "align_content": null,
      "align_items": null,
      "align_self": null,
      "border": null,
      "bottom": null,
      "display": null,
      "flex": null,
      "flex_flow": null,
      "grid_area": null,
      "grid_auto_columns": null,
      "grid_auto_flow": null,
      "grid_auto_rows": null,
      "grid_column": null,
      "grid_gap": null,
      "grid_row": null,
      "grid_template_areas": null,
      "grid_template_columns": null,
      "grid_template_rows": null,
      "height": null,
      "justify_content": null,
      "justify_items": null,
      "left": null,
      "margin": null,
      "max_height": null,
      "max_width": null,
      "min_height": null,
      "min_width": null,
      "object_fit": null,
      "object_position": null,
      "order": null,
      "overflow": null,
      "overflow_x": null,
      "overflow_y": null,
      "padding": null,
      "right": null,
      "top": null,
      "visibility": null,
      "width": null
     }
    },
    "adbad0b85f78492583b2c5b291341030": {
     "model_module": "@jupyter-widgets/base",
     "model_module_version": "1.2.0",
     "model_name": "LayoutModel",
     "state": {
      "_model_module": "@jupyter-widgets/base",
      "_model_module_version": "1.2.0",
      "_model_name": "LayoutModel",
      "_view_count": null,
      "_view_module": "@jupyter-widgets/base",
      "_view_module_version": "1.2.0",
      "_view_name": "LayoutView",
      "align_content": null,
      "align_items": null,
      "align_self": null,
      "border": null,
      "bottom": null,
      "display": null,
      "flex": null,
      "flex_flow": null,
      "grid_area": null,
      "grid_auto_columns": null,
      "grid_auto_flow": null,
      "grid_auto_rows": null,
      "grid_column": null,
      "grid_gap": null,
      "grid_row": null,
      "grid_template_areas": null,
      "grid_template_columns": null,
      "grid_template_rows": null,
      "height": null,
      "justify_content": null,
      "justify_items": null,
      "left": null,
      "margin": null,
      "max_height": null,
      "max_width": null,
      "min_height": null,
      "min_width": null,
      "object_fit": null,
      "object_position": null,
      "order": null,
      "overflow": null,
      "overflow_x": null,
      "overflow_y": null,
      "padding": null,
      "right": null,
      "top": null,
      "visibility": null,
      "width": null
     }
    },
    "ae117dc6e1fb41eca964e34601c6aa6c": {
     "model_module": "@jupyter-widgets/controls",
     "model_module_version": "1.5.0",
     "model_name": "DescriptionStyleModel",
     "state": {
      "_model_module": "@jupyter-widgets/controls",
      "_model_module_version": "1.5.0",
      "_model_name": "DescriptionStyleModel",
      "_view_count": null,
      "_view_module": "@jupyter-widgets/base",
      "_view_module_version": "1.2.0",
      "_view_name": "StyleView",
      "description_width": ""
     }
    },
    "af955c59afc54adc8f1072d371b688bc": {
     "model_module": "@jupyter-widgets/controls",
     "model_module_version": "1.5.0",
     "model_name": "ProgressStyleModel",
     "state": {
      "_model_module": "@jupyter-widgets/controls",
      "_model_module_version": "1.5.0",
      "_model_name": "ProgressStyleModel",
      "_view_count": null,
      "_view_module": "@jupyter-widgets/base",
      "_view_module_version": "1.2.0",
      "_view_name": "StyleView",
      "bar_color": null,
      "description_width": ""
     }
    },
    "b689909adc244204af714b9a19e158c0": {
     "model_module": "@jupyter-widgets/base",
     "model_module_version": "1.2.0",
     "model_name": "LayoutModel",
     "state": {
      "_model_module": "@jupyter-widgets/base",
      "_model_module_version": "1.2.0",
      "_model_name": "LayoutModel",
      "_view_count": null,
      "_view_module": "@jupyter-widgets/base",
      "_view_module_version": "1.2.0",
      "_view_name": "LayoutView",
      "align_content": null,
      "align_items": null,
      "align_self": null,
      "border": null,
      "bottom": null,
      "display": null,
      "flex": null,
      "flex_flow": null,
      "grid_area": null,
      "grid_auto_columns": null,
      "grid_auto_flow": null,
      "grid_auto_rows": null,
      "grid_column": null,
      "grid_gap": null,
      "grid_row": null,
      "grid_template_areas": null,
      "grid_template_columns": null,
      "grid_template_rows": null,
      "height": null,
      "justify_content": null,
      "justify_items": null,
      "left": null,
      "margin": null,
      "max_height": null,
      "max_width": null,
      "min_height": null,
      "min_width": null,
      "object_fit": null,
      "object_position": null,
      "order": null,
      "overflow": null,
      "overflow_x": null,
      "overflow_y": null,
      "padding": null,
      "right": null,
      "top": null,
      "visibility": null,
      "width": null
     }
    },
    "b982f93475414c0c8a92601717138dc4": {
     "model_module": "@jupyter-widgets/controls",
     "model_module_version": "1.5.0",
     "model_name": "HTMLModel",
     "state": {
      "_dom_classes": [],
      "_model_module": "@jupyter-widgets/controls",
      "_model_module_version": "1.5.0",
      "_model_name": "HTMLModel",
      "_view_count": null,
      "_view_module": "@jupyter-widgets/controls",
      "_view_module_version": "1.5.0",
      "_view_name": "HTMLView",
      "description": "",
      "description_tooltip": null,
      "layout": "IPY_MODEL_a434f279213545da8a92da73bc320504",
      "placeholder": "​",
      "style": "IPY_MODEL_17ecb55f59dd411084d8692b80cc8cad",
      "value": "Downloading: "
     }
    },
    "c04bdf05ef684c8fb12ea45833394e77": {
     "model_module": "@jupyter-widgets/controls",
     "model_module_version": "1.5.0",
     "model_name": "DescriptionStyleModel",
     "state": {
      "_model_module": "@jupyter-widgets/controls",
      "_model_module_version": "1.5.0",
      "_model_name": "DescriptionStyleModel",
      "_view_count": null,
      "_view_module": "@jupyter-widgets/base",
      "_view_module_version": "1.2.0",
      "_view_name": "StyleView",
      "description_width": ""
     }
    },
    "c0e574d69ffb426b87d3445d26e02926": {
     "model_module": "@jupyter-widgets/base",
     "model_module_version": "1.2.0",
     "model_name": "LayoutModel",
     "state": {
      "_model_module": "@jupyter-widgets/base",
      "_model_module_version": "1.2.0",
      "_model_name": "LayoutModel",
      "_view_count": null,
      "_view_module": "@jupyter-widgets/base",
      "_view_module_version": "1.2.0",
      "_view_name": "LayoutView",
      "align_content": null,
      "align_items": null,
      "align_self": null,
      "border": null,
      "bottom": null,
      "display": null,
      "flex": null,
      "flex_flow": null,
      "grid_area": null,
      "grid_auto_columns": null,
      "grid_auto_flow": null,
      "grid_auto_rows": null,
      "grid_column": null,
      "grid_gap": null,
      "grid_row": null,
      "grid_template_areas": null,
      "grid_template_columns": null,
      "grid_template_rows": null,
      "height": null,
      "justify_content": null,
      "justify_items": null,
      "left": null,
      "margin": null,
      "max_height": null,
      "max_width": null,
      "min_height": null,
      "min_width": null,
      "object_fit": null,
      "object_position": null,
      "order": null,
      "overflow": null,
      "overflow_x": null,
      "overflow_y": null,
      "padding": null,
      "right": null,
      "top": null,
      "visibility": null,
      "width": null
     }
    },
    "c2c7fbedceba45aa822c96d7f1cb6134": {
     "model_module": "@jupyter-widgets/controls",
     "model_module_version": "1.5.0",
     "model_name": "DescriptionStyleModel",
     "state": {
      "_model_module": "@jupyter-widgets/controls",
      "_model_module_version": "1.5.0",
      "_model_name": "DescriptionStyleModel",
      "_view_count": null,
      "_view_module": "@jupyter-widgets/base",
      "_view_module_version": "1.2.0",
      "_view_name": "StyleView",
      "description_width": ""
     }
    },
    "c8c29e7a13804b6c9e97c3ff425bd81d": {
     "model_module": "@jupyter-widgets/base",
     "model_module_version": "1.2.0",
     "model_name": "LayoutModel",
     "state": {
      "_model_module": "@jupyter-widgets/base",
      "_model_module_version": "1.2.0",
      "_model_name": "LayoutModel",
      "_view_count": null,
      "_view_module": "@jupyter-widgets/base",
      "_view_module_version": "1.2.0",
      "_view_name": "LayoutView",
      "align_content": null,
      "align_items": null,
      "align_self": null,
      "border": null,
      "bottom": null,
      "display": null,
      "flex": null,
      "flex_flow": null,
      "grid_area": null,
      "grid_auto_columns": null,
      "grid_auto_flow": null,
      "grid_auto_rows": null,
      "grid_column": null,
      "grid_gap": null,
      "grid_row": null,
      "grid_template_areas": null,
      "grid_template_columns": null,
      "grid_template_rows": null,
      "height": null,
      "justify_content": null,
      "justify_items": null,
      "left": null,
      "margin": null,
      "max_height": null,
      "max_width": null,
      "min_height": null,
      "min_width": null,
      "object_fit": null,
      "object_position": null,
      "order": null,
      "overflow": null,
      "overflow_x": null,
      "overflow_y": null,
      "padding": null,
      "right": null,
      "top": null,
      "visibility": null,
      "width": null
     }
    },
    "c916612f156b457f828410fdc85c8def": {
     "model_module": "@jupyter-widgets/controls",
     "model_module_version": "1.5.0",
     "model_name": "FloatProgressModel",
     "state": {
      "_dom_classes": [],
      "_model_module": "@jupyter-widgets/controls",
      "_model_module_version": "1.5.0",
      "_model_name": "FloatProgressModel",
      "_view_count": null,
      "_view_module": "@jupyter-widgets/controls",
      "_view_module_version": "1.5.0",
      "_view_name": "ProgressView",
      "bar_style": "success",
      "description": "",
      "description_tooltip": null,
      "layout": "IPY_MODEL_adbad0b85f78492583b2c5b291341030",
      "max": 1405,
      "min": 0,
      "orientation": "horizontal",
      "style": "IPY_MODEL_f8f12dcd6d164513bae3d4d7835cc45e",
      "value": 1405
     }
    },
    "d3190da3507f4ab4be03027179566508": {
     "model_module": "@jupyter-widgets/controls",
     "model_module_version": "1.5.0",
     "model_name": "DescriptionStyleModel",
     "state": {
      "_model_module": "@jupyter-widgets/controls",
      "_model_module_version": "1.5.0",
      "_model_name": "DescriptionStyleModel",
      "_view_count": null,
      "_view_module": "@jupyter-widgets/base",
      "_view_module_version": "1.2.0",
      "_view_name": "StyleView",
      "description_width": ""
     }
    },
    "d5ce787580584a40883fdac45df7917a": {
     "model_module": "@jupyter-widgets/controls",
     "model_module_version": "1.5.0",
     "model_name": "DescriptionStyleModel",
     "state": {
      "_model_module": "@jupyter-widgets/controls",
      "_model_module_version": "1.5.0",
      "_model_name": "DescriptionStyleModel",
      "_view_count": null,
      "_view_module": "@jupyter-widgets/base",
      "_view_module_version": "1.2.0",
      "_view_name": "StyleView",
      "description_width": ""
     }
    },
    "d5e1f379a1084c6e978a633698b4b02a": {
     "model_module": "@jupyter-widgets/controls",
     "model_module_version": "1.5.0",
     "model_name": "ProgressStyleModel",
     "state": {
      "_model_module": "@jupyter-widgets/controls",
      "_model_module_version": "1.5.0",
      "_model_name": "ProgressStyleModel",
      "_view_count": null,
      "_view_module": "@jupyter-widgets/base",
      "_view_module_version": "1.2.0",
      "_view_name": "StyleView",
      "bar_color": null,
      "description_width": ""
     }
    },
    "d8499a1a46144034b56489025aaee86f": {
     "model_module": "@jupyter-widgets/base",
     "model_module_version": "1.2.0",
     "model_name": "LayoutModel",
     "state": {
      "_model_module": "@jupyter-widgets/base",
      "_model_module_version": "1.2.0",
      "_model_name": "LayoutModel",
      "_view_count": null,
      "_view_module": "@jupyter-widgets/base",
      "_view_module_version": "1.2.0",
      "_view_name": "LayoutView",
      "align_content": null,
      "align_items": null,
      "align_self": null,
      "border": null,
      "bottom": null,
      "display": null,
      "flex": null,
      "flex_flow": null,
      "grid_area": null,
      "grid_auto_columns": null,
      "grid_auto_flow": null,
      "grid_auto_rows": null,
      "grid_column": null,
      "grid_gap": null,
      "grid_row": null,
      "grid_template_areas": null,
      "grid_template_columns": null,
      "grid_template_rows": null,
      "height": null,
      "justify_content": null,
      "justify_items": null,
      "left": null,
      "margin": null,
      "max_height": null,
      "max_width": null,
      "min_height": null,
      "min_width": null,
      "object_fit": null,
      "object_position": null,
      "order": null,
      "overflow": null,
      "overflow_x": null,
      "overflow_y": null,
      "padding": null,
      "right": null,
      "top": null,
      "visibility": null,
      "width": null
     }
    },
    "db4d60783a2b4cc9ac647f53524e9201": {
     "model_module": "@jupyter-widgets/controls",
     "model_module_version": "1.5.0",
     "model_name": "HBoxModel",
     "state": {
      "_dom_classes": [],
      "_model_module": "@jupyter-widgets/controls",
      "_model_module_version": "1.5.0",
      "_model_name": "HBoxModel",
      "_view_count": null,
      "_view_module": "@jupyter-widgets/controls",
      "_view_module_version": "1.5.0",
      "_view_name": "HBoxView",
      "box_style": "",
      "children": [
       "IPY_MODEL_8aff67fa78c640bf83598dd7fccc5b97",
       "IPY_MODEL_97ed312717014144af97d250fcd74d9d",
       "IPY_MODEL_7b69f1226cf5457aa164146a890a2c5e"
      ],
      "layout": "IPY_MODEL_23e6dd2b833d44aabc5b78a83d7ef136"
     }
    },
    "de1e4b0f94f74b4380de2cb4447352f1": {
     "model_module": "@jupyter-widgets/controls",
     "model_module_version": "1.5.0",
     "model_name": "HTMLModel",
     "state": {
      "_dom_classes": [],
      "_model_module": "@jupyter-widgets/controls",
      "_model_module_version": "1.5.0",
      "_model_name": "HTMLModel",
      "_view_count": null,
      "_view_module": "@jupyter-widgets/controls",
      "_view_module_version": "1.5.0",
      "_view_name": "HTMLView",
      "description": "",
      "description_tooltip": null,
      "layout": "IPY_MODEL_5600aa1b802c46b183417910f0e18cc4",
      "placeholder": "​",
      "style": "IPY_MODEL_a9aa1538562840f2b969340f1cbf8bbb",
      "value": " 2.81k/? [00:00&lt;00:00, 57.6kB/s]"
     }
    },
    "e1d75f47a76d4bf8b2941fe543e46242": {
     "model_module": "@jupyter-widgets/controls",
     "model_module_version": "1.5.0",
     "model_name": "ProgressStyleModel",
     "state": {
      "_model_module": "@jupyter-widgets/controls",
      "_model_module_version": "1.5.0",
      "_model_name": "ProgressStyleModel",
      "_view_count": null,
      "_view_module": "@jupyter-widgets/base",
      "_view_module_version": "1.2.0",
      "_view_name": "StyleView",
      "bar_color": null,
      "description_width": ""
     }
    },
    "eb10554a79a04ecf92517ba96ca956d9": {
     "model_module": "@jupyter-widgets/controls",
     "model_module_version": "1.5.0",
     "model_name": "DescriptionStyleModel",
     "state": {
      "_model_module": "@jupyter-widgets/controls",
      "_model_module_version": "1.5.0",
      "_model_name": "DescriptionStyleModel",
      "_view_count": null,
      "_view_module": "@jupyter-widgets/base",
      "_view_module_version": "1.2.0",
      "_view_name": "StyleView",
      "description_width": ""
     }
    },
    "ed5983a37cba4faea852cf2e13b355b4": {
     "model_module": "@jupyter-widgets/base",
     "model_module_version": "1.2.0",
     "model_name": "LayoutModel",
     "state": {
      "_model_module": "@jupyter-widgets/base",
      "_model_module_version": "1.2.0",
      "_model_name": "LayoutModel",
      "_view_count": null,
      "_view_module": "@jupyter-widgets/base",
      "_view_module_version": "1.2.0",
      "_view_name": "LayoutView",
      "align_content": null,
      "align_items": null,
      "align_self": null,
      "border": null,
      "bottom": null,
      "display": null,
      "flex": null,
      "flex_flow": null,
      "grid_area": null,
      "grid_auto_columns": null,
      "grid_auto_flow": null,
      "grid_auto_rows": null,
      "grid_column": null,
      "grid_gap": null,
      "grid_row": null,
      "grid_template_areas": null,
      "grid_template_columns": null,
      "grid_template_rows": null,
      "height": null,
      "justify_content": null,
      "justify_items": null,
      "left": null,
      "margin": null,
      "max_height": null,
      "max_width": null,
      "min_height": null,
      "min_width": null,
      "object_fit": null,
      "object_position": null,
      "order": null,
      "overflow": null,
      "overflow_x": null,
      "overflow_y": null,
      "padding": null,
      "right": null,
      "top": null,
      "visibility": null,
      "width": null
     }
    },
    "ef09f1189d75431591bebf33d288dacc": {
     "model_module": "@jupyter-widgets/base",
     "model_module_version": "1.2.0",
     "model_name": "LayoutModel",
     "state": {
      "_model_module": "@jupyter-widgets/base",
      "_model_module_version": "1.2.0",
      "_model_name": "LayoutModel",
      "_view_count": null,
      "_view_module": "@jupyter-widgets/base",
      "_view_module_version": "1.2.0",
      "_view_name": "LayoutView",
      "align_content": null,
      "align_items": null,
      "align_self": null,
      "border": null,
      "bottom": null,
      "display": null,
      "flex": null,
      "flex_flow": null,
      "grid_area": null,
      "grid_auto_columns": null,
      "grid_auto_flow": null,
      "grid_auto_rows": null,
      "grid_column": null,
      "grid_gap": null,
      "grid_row": null,
      "grid_template_areas": null,
      "grid_template_columns": null,
      "grid_template_rows": null,
      "height": null,
      "justify_content": null,
      "justify_items": null,
      "left": null,
      "margin": null,
      "max_height": null,
      "max_width": null,
      "min_height": null,
      "min_width": null,
      "object_fit": null,
      "object_position": null,
      "order": null,
      "overflow": null,
      "overflow_x": null,
      "overflow_y": null,
      "padding": null,
      "right": null,
      "top": null,
      "visibility": null,
      "width": null
     }
    },
    "f56b5b8abcfc415fbf46ca0f2fe619d0": {
     "model_module": "@jupyter-widgets/controls",
     "model_module_version": "1.5.0",
     "model_name": "HBoxModel",
     "state": {
      "_dom_classes": [],
      "_model_module": "@jupyter-widgets/controls",
      "_model_module_version": "1.5.0",
      "_model_name": "HBoxModel",
      "_view_count": null,
      "_view_module": "@jupyter-widgets/controls",
      "_view_module_version": "1.5.0",
      "_view_name": "HBoxView",
      "box_style": "",
      "children": [
       "IPY_MODEL_12e50a27f9f24575bd86305f3b609095",
       "IPY_MODEL_24cc9a4f2e4a411296dd6822329e5815",
       "IPY_MODEL_f83d5ec459fe4dfd9ebf46fcca9895ee"
      ],
      "layout": "IPY_MODEL_ef09f1189d75431591bebf33d288dacc"
     }
    },
    "f83d5ec459fe4dfd9ebf46fcca9895ee": {
     "model_module": "@jupyter-widgets/controls",
     "model_module_version": "1.5.0",
     "model_name": "HTMLModel",
     "state": {
      "_dom_classes": [],
      "_model_module": "@jupyter-widgets/controls",
      "_model_module_version": "1.5.0",
      "_model_name": "HTMLModel",
      "_view_count": null,
      "_view_module": "@jupyter-widgets/controls",
      "_view_module_version": "1.5.0",
      "_view_name": "HTMLView",
      "description": "",
      "description_tooltip": null,
      "layout": "IPY_MODEL_7dac8e5e55ce4e638942c4299b377e3a",
      "placeholder": "​",
      "style": "IPY_MODEL_d3190da3507f4ab4be03027179566508",
      "value": " 611/611 [04:36&lt;00:00,  2.78ba/s]"
     }
    },
    "f8f12dcd6d164513bae3d4d7835cc45e": {
     "model_module": "@jupyter-widgets/controls",
     "model_module_version": "1.5.0",
     "model_name": "ProgressStyleModel",
     "state": {
      "_model_module": "@jupyter-widgets/controls",
      "_model_module_version": "1.5.0",
      "_model_name": "ProgressStyleModel",
      "_view_count": null,
      "_view_module": "@jupyter-widgets/base",
      "_view_module_version": "1.2.0",
      "_view_name": "StyleView",
      "bar_color": null,
      "description_width": ""
     }
    },
    "fd705f2d192c41f8bbbf5c6270e6ffb0": {
     "model_module": "@jupyter-widgets/controls",
     "model_module_version": "1.5.0",
     "model_name": "HBoxModel",
     "state": {
      "_dom_classes": [],
      "_model_module": "@jupyter-widgets/controls",
      "_model_module_version": "1.5.0",
      "_model_name": "HBoxModel",
      "_view_count": null,
      "_view_module": "@jupyter-widgets/controls",
      "_view_module_version": "1.5.0",
      "_view_name": "HBoxView",
      "box_style": "",
      "children": [
       "IPY_MODEL_b982f93475414c0c8a92601717138dc4",
       "IPY_MODEL_98b513fb020744bfbbe0678daa33f2aa",
       "IPY_MODEL_4295f3dc0a494198b776f682b327924d"
      ],
      "layout": "IPY_MODEL_d8499a1a46144034b56489025aaee86f"
     }
    }
   }
  }
 },
 "nbformat": 4,
 "nbformat_minor": 1
}
